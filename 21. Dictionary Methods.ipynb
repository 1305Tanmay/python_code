{
 "cells": [
  {
   "cell_type": "code",
   "execution_count": 10,
   "id": "340fff61",
   "metadata": {},
   "outputs": [
    {
     "name": "stdout",
     "output_type": "stream",
     "text": [
      "{1: 'one', 2: 'two', 3: 'three'}\n"
     ]
    }
   ],
   "source": [
    "# clear the dict.\n",
    "\n",
    "test = {\n",
    "    1 : \"one\",\n",
    "    2 : \"two\", \n",
    "    3 : \"three\"\n",
    "}\n",
    "\n",
    "print(test)"
   ]
  },
  {
   "cell_type": "code",
   "execution_count": 11,
   "id": "e61a396b",
   "metadata": {},
   "outputs": [
    {
     "data": {
      "text/plain": [
       "dict"
      ]
     },
     "execution_count": 11,
     "metadata": {},
     "output_type": "execute_result"
    }
   ],
   "source": [
    "type(test)"
   ]
  },
  {
   "cell_type": "code",
   "execution_count": 12,
   "id": "2954741c",
   "metadata": {},
   "outputs": [],
   "source": [
    "test.clear()"
   ]
  },
  {
   "cell_type": "code",
   "execution_count": 13,
   "id": "726d68b8",
   "metadata": {},
   "outputs": [
    {
     "name": "stdout",
     "output_type": "stream",
     "text": [
      "{}\n"
     ]
    }
   ],
   "source": [
    "print(test)"
   ]
  },
  {
   "cell_type": "code",
   "execution_count": 14,
   "id": "b4c8b527",
   "metadata": {},
   "outputs": [
    {
     "ename": "NameError",
     "evalue": "name 'x' is not defined",
     "output_type": "error",
     "traceback": [
      "\u001b[1;31m---------------------------------------------------------------------------\u001b[0m",
      "\u001b[1;31mNameError\u001b[0m                                 Traceback (most recent call last)",
      "\u001b[1;32m<ipython-input-14-5e8e190d7d36>\u001b[0m in \u001b[0;36m<module>\u001b[1;34m\u001b[0m\n\u001b[0;32m      7\u001b[0m }\n\u001b[0;32m      8\u001b[0m \u001b[1;33m\u001b[0m\u001b[0m\n\u001b[1;32m----> 9\u001b[1;33m \u001b[0mprint\u001b[0m\u001b[1;33m(\u001b[0m\u001b[0mx\u001b[0m\u001b[1;33m)\u001b[0m\u001b[1;33m\u001b[0m\u001b[1;33m\u001b[0m\u001b[0m\n\u001b[0m",
      "\u001b[1;31mNameError\u001b[0m: name 'x' is not defined"
     ]
    }
   ],
   "source": [
    "# copy the dict.\n",
    "\n",
    "test = {\n",
    "    1 : \"one\",\n",
    "    2 : \"two\", \n",
    "    3 : \"three\"\n",
    "}\n",
    "\n",
    "print(x)"
   ]
  },
  {
   "cell_type": "code",
   "execution_count": 15,
   "id": "47b4e740",
   "metadata": {},
   "outputs": [],
   "source": [
    "x = test.copy()"
   ]
  },
  {
   "cell_type": "code",
   "execution_count": 16,
   "id": "94504a68",
   "metadata": {},
   "outputs": [
    {
     "name": "stdout",
     "output_type": "stream",
     "text": [
      "{1: 'one', 2: 'two', 3: 'three'}\n"
     ]
    }
   ],
   "source": [
    "print(x)"
   ]
  },
  {
   "cell_type": "code",
   "execution_count": 17,
   "id": "5216975c",
   "metadata": {},
   "outputs": [
    {
     "data": {
      "text/plain": [
       "'one'"
      ]
     },
     "execution_count": 17,
     "metadata": {},
     "output_type": "execute_result"
    }
   ],
   "source": [
    "test = {\n",
    "    1 : \"one\",\n",
    "    2 : \"two\", \n",
    "    3 : \"three\"\n",
    "}\n",
    "\n",
    "\n",
    "test[1]"
   ]
  },
  {
   "cell_type": "code",
   "execution_count": 18,
   "id": "8b679439",
   "metadata": {},
   "outputs": [
    {
     "data": {
      "text/plain": [
       "'one'"
      ]
     },
     "execution_count": 18,
     "metadata": {},
     "output_type": "execute_result"
    }
   ],
   "source": [
    "test.get(1)"
   ]
  },
  {
   "cell_type": "code",
   "execution_count": 19,
   "id": "0c66facc",
   "metadata": {},
   "outputs": [
    {
     "ename": "KeyError",
     "evalue": "5",
     "output_type": "error",
     "traceback": [
      "\u001b[1;31m---------------------------------------------------------------------------\u001b[0m",
      "\u001b[1;31mKeyError\u001b[0m                                  Traceback (most recent call last)",
      "\u001b[1;32m<ipython-input-19-c2759fbf8a73>\u001b[0m in \u001b[0;36m<module>\u001b[1;34m\u001b[0m\n\u001b[1;32m----> 1\u001b[1;33m \u001b[0mtest\u001b[0m\u001b[1;33m[\u001b[0m\u001b[1;36m5\u001b[0m\u001b[1;33m]\u001b[0m\u001b[1;33m\u001b[0m\u001b[1;33m\u001b[0m\u001b[0m\n\u001b[0m",
      "\u001b[1;31mKeyError\u001b[0m: 5"
     ]
    }
   ],
   "source": [
    "test[5]"
   ]
  },
  {
   "cell_type": "code",
   "execution_count": 23,
   "id": "6ae43dc8",
   "metadata": {},
   "outputs": [
    {
     "data": {
      "text/plain": [
       "'five'"
      ]
     },
     "execution_count": 23,
     "metadata": {},
     "output_type": "execute_result"
    }
   ],
   "source": [
    "test.get(5, \"five\")"
   ]
  },
  {
   "cell_type": "code",
   "execution_count": 24,
   "id": "9cc23d98",
   "metadata": {},
   "outputs": [],
   "source": [
    "# some more data types\n",
    "\n",
    "details = {\n",
    "    \"fname\" : \"KP\", \n",
    "    \"lname\" : \"Sahoo\", \n",
    "    \"age\" : 100, \n",
    "    \"marks\" : 30.78,\n",
    "    \"male\" : True\n",
    "}"
   ]
  },
  {
   "cell_type": "code",
   "execution_count": 25,
   "id": "5b43277b",
   "metadata": {},
   "outputs": [
    {
     "name": "stdout",
     "output_type": "stream",
     "text": [
      "dict_items([('fname', 'KP'), ('lname', 'Sahoo'), ('age', 100), ('marks', 30.78), ('male', True)])\n"
     ]
    }
   ],
   "source": [
    "print(details.items())"
   ]
  },
  {
   "cell_type": "code",
   "execution_count": 26,
   "id": "25043f91",
   "metadata": {},
   "outputs": [
    {
     "data": {
      "text/plain": [
       "dict_items"
      ]
     },
     "execution_count": 26,
     "metadata": {},
     "output_type": "execute_result"
    }
   ],
   "source": [
    "type(details.items())"
   ]
  },
  {
   "cell_type": "code",
   "execution_count": 28,
   "id": "4a0d87ac",
   "metadata": {},
   "outputs": [
    {
     "name": "stdout",
     "output_type": "stream",
     "text": [
      "{'fname': 'KP', 'lname': 'Sahoo', 'age': 100, 'marks': 30.78, 'male': True}\n"
     ]
    }
   ],
   "source": [
    "# delete the value by providing the key\n",
    "\n",
    "print(details)\n",
    "\n",
    "del [details[\"age\"]]"
   ]
  },
  {
   "cell_type": "code",
   "execution_count": 29,
   "id": "dd29d5e9",
   "metadata": {},
   "outputs": [
    {
     "name": "stdout",
     "output_type": "stream",
     "text": [
      "{'fname': 'KP', 'lname': 'Sahoo', 'marks': 30.78, 'male': True}\n"
     ]
    }
   ],
   "source": [
    "print(details)"
   ]
  },
  {
   "cell_type": "code",
   "execution_count": 31,
   "id": "df961e87",
   "metadata": {},
   "outputs": [
    {
     "name": "stdout",
     "output_type": "stream",
     "text": [
      "dict_keys(['fname', 'lname', 'marks', 'male'])\n"
     ]
    }
   ],
   "source": [
    "# get all the keys\n",
    "\n",
    "print(details.keys())"
   ]
  },
  {
   "cell_type": "code",
   "execution_count": 32,
   "id": "bfbf593e",
   "metadata": {},
   "outputs": [
    {
     "data": {
      "text/plain": [
       "dict_keys"
      ]
     },
     "execution_count": 32,
     "metadata": {},
     "output_type": "execute_result"
    }
   ],
   "source": [
    "type(details.keys())"
   ]
  },
  {
   "cell_type": "code",
   "execution_count": 33,
   "id": "588b76ba",
   "metadata": {},
   "outputs": [
    {
     "data": {
      "text/plain": [
       "'two'"
      ]
     },
     "execution_count": 33,
     "metadata": {},
     "output_type": "execute_result"
    }
   ],
   "source": [
    "# pop\n",
    "\n",
    "test = {\n",
    "    1 : \"one\",\n",
    "    2 : \"two\", \n",
    "    3 : \"three\"\n",
    "}\n",
    "\n",
    "test.pop(2)"
   ]
  },
  {
   "cell_type": "code",
   "execution_count": 34,
   "id": "3ec941ff",
   "metadata": {},
   "outputs": [
    {
     "data": {
      "text/plain": [
       "{1: 'one', 3: 'three'}"
      ]
     },
     "execution_count": 34,
     "metadata": {},
     "output_type": "execute_result"
    }
   ],
   "source": [
    "test\n"
   ]
  },
  {
   "cell_type": "code",
   "execution_count": 35,
   "id": "1361b68a",
   "metadata": {},
   "outputs": [],
   "source": [
    "# LIFO : last in first out\n",
    "\n",
    "test = {\n",
    "    1 : \"one\",\n",
    "    2 : \"two\", \n",
    "    3 : \"three\", \n",
    "    4 : \"four\", \n",
    "    5 : \"five\",\n",
    "}"
   ]
  },
  {
   "cell_type": "code",
   "execution_count": 36,
   "id": "bbfc7557",
   "metadata": {},
   "outputs": [
    {
     "data": {
      "text/plain": [
       "{1: 'one', 2: 'two', 3: 'three', 4: 'four', 5: 'five'}"
      ]
     },
     "execution_count": 36,
     "metadata": {},
     "output_type": "execute_result"
    }
   ],
   "source": [
    "test"
   ]
  },
  {
   "cell_type": "code",
   "execution_count": 37,
   "id": "8b752eca",
   "metadata": {},
   "outputs": [
    {
     "data": {
      "text/plain": [
       "(5, 'five')"
      ]
     },
     "execution_count": 37,
     "metadata": {},
     "output_type": "execute_result"
    }
   ],
   "source": [
    "# pop item\n",
    "\n",
    "test.popitem()"
   ]
  },
  {
   "cell_type": "code",
   "execution_count": 38,
   "id": "89cc33eb",
   "metadata": {},
   "outputs": [
    {
     "data": {
      "text/plain": [
       "{1: 'one', 2: 'two', 3: 'three', 4: 'four'}"
      ]
     },
     "execution_count": 38,
     "metadata": {},
     "output_type": "execute_result"
    }
   ],
   "source": [
    "test"
   ]
  },
  {
   "cell_type": "code",
   "execution_count": 39,
   "id": "4a35dd35",
   "metadata": {},
   "outputs": [
    {
     "data": {
      "text/plain": [
       "(4, 'four')"
      ]
     },
     "execution_count": 39,
     "metadata": {},
     "output_type": "execute_result"
    }
   ],
   "source": [
    "test.popitem()"
   ]
  },
  {
   "cell_type": "code",
   "execution_count": 40,
   "id": "72b92ac0",
   "metadata": {},
   "outputs": [
    {
     "data": {
      "text/plain": [
       "{1: 'one', 2: 'two', 3: 'three'}"
      ]
     },
     "execution_count": 40,
     "metadata": {},
     "output_type": "execute_result"
    }
   ],
   "source": [
    "test"
   ]
  },
  {
   "cell_type": "code",
   "execution_count": 41,
   "id": "f41e1d31",
   "metadata": {},
   "outputs": [],
   "source": [
    "# update\n",
    "\n",
    "details = {\n",
    "    \"fname\" : \"KP\", \n",
    "    \"lname\" : \"Sahoo\", \n",
    "    \"age\" : 100, \n",
    "    \"marks\" : 30.78,\n",
    "    \"male\" : True\n",
    "}\n",
    "\n",
    "extra = {\n",
    "    \"location\" : \"India\"\n",
    "}"
   ]
  },
  {
   "cell_type": "code",
   "execution_count": 42,
   "id": "cab1828e",
   "metadata": {},
   "outputs": [],
   "source": [
    "details.update(extra)"
   ]
  },
  {
   "cell_type": "code",
   "execution_count": 43,
   "id": "6e950fbe",
   "metadata": {},
   "outputs": [
    {
     "data": {
      "text/plain": [
       "{'fname': 'KP',\n",
       " 'lname': 'Sahoo',\n",
       " 'age': 100,\n",
       " 'marks': 30.78,\n",
       " 'male': True,\n",
       " 'location': 'India'}"
      ]
     },
     "execution_count": 43,
     "metadata": {},
     "output_type": "execute_result"
    }
   ],
   "source": [
    "details"
   ]
  },
  {
   "cell_type": "code",
   "execution_count": 44,
   "id": "94f4270d",
   "metadata": {},
   "outputs": [],
   "source": [
    "d1 = {}\n",
    "d2 = {\"colour\" : \"black\"}\n",
    "\n",
    "d1.update(d2)"
   ]
  },
  {
   "cell_type": "code",
   "execution_count": 45,
   "id": "8474b149",
   "metadata": {},
   "outputs": [
    {
     "data": {
      "text/plain": [
       "{'colour': 'black'}"
      ]
     },
     "execution_count": 45,
     "metadata": {},
     "output_type": "execute_result"
    }
   ],
   "source": [
    "d1"
   ]
  },
  {
   "cell_type": "code",
   "execution_count": 46,
   "id": "8e5e673c",
   "metadata": {},
   "outputs": [
    {
     "data": {
      "text/plain": [
       "{'colour': 'black'}"
      ]
     },
     "execution_count": 46,
     "metadata": {},
     "output_type": "execute_result"
    }
   ],
   "source": [
    "d2"
   ]
  },
  {
   "cell_type": "code",
   "execution_count": 47,
   "id": "3d4097c5",
   "metadata": {},
   "outputs": [],
   "source": [
    "d = {}\n"
   ]
  },
  {
   "cell_type": "code",
   "execution_count": 48,
   "id": "d904f458",
   "metadata": {},
   "outputs": [
    {
     "data": {
      "text/plain": [
       "{}"
      ]
     },
     "execution_count": 48,
     "metadata": {},
     "output_type": "execute_result"
    }
   ],
   "source": [
    "d"
   ]
  },
  {
   "cell_type": "code",
   "execution_count": 49,
   "id": "b0a4ac06",
   "metadata": {},
   "outputs": [],
   "source": [
    "d.update( x = 3, y = 5 )"
   ]
  },
  {
   "cell_type": "code",
   "execution_count": 50,
   "id": "f4e0a684",
   "metadata": {},
   "outputs": [
    {
     "data": {
      "text/plain": [
       "{'x': 3, 'y': 5}"
      ]
     },
     "execution_count": 50,
     "metadata": {},
     "output_type": "execute_result"
    }
   ],
   "source": [
    "d"
   ]
  },
  {
   "cell_type": "code",
   "execution_count": 51,
   "id": "10c94a77",
   "metadata": {},
   "outputs": [
    {
     "data": {
      "text/plain": [
       "dict"
      ]
     },
     "execution_count": 51,
     "metadata": {},
     "output_type": "execute_result"
    }
   ],
   "source": [
    "type(d)"
   ]
  },
  {
   "cell_type": "code",
   "execution_count": null,
   "id": "91b92b53",
   "metadata": {},
   "outputs": [],
   "source": []
  }
 ],
 "metadata": {
  "kernelspec": {
   "display_name": "Python 3",
   "language": "python",
   "name": "python3"
  },
  "language_info": {
   "codemirror_mode": {
    "name": "ipython",
    "version": 3
   },
   "file_extension": ".py",
   "mimetype": "text/x-python",
   "name": "python",
   "nbconvert_exporter": "python",
   "pygments_lexer": "ipython3",
   "version": "3.8.8"
  }
 },
 "nbformat": 4,
 "nbformat_minor": 5
}
