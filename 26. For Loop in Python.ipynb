{
 "cells": [
  {
   "cell_type": "code",
   "execution_count": 2,
   "id": "4f3eef67",
   "metadata": {},
   "outputs": [
    {
     "name": "stdout",
     "output_type": "stream",
     "text": [
      "1-2-3-4-5-"
     ]
    }
   ],
   "source": [
    "a = [1, 2, 3, 4, 5]\n",
    "\n",
    "for x in a :\n",
    "    print(x, end=\"-\")"
   ]
  },
  {
   "cell_type": "code",
   "execution_count": 3,
   "id": "e9421659",
   "metadata": {},
   "outputs": [
    {
     "name": "stdout",
     "output_type": "stream",
     "text": [
      "5\n",
      "10\n",
      "15\n",
      "20\n",
      "25\n"
     ]
    }
   ],
   "source": [
    "a = [1, 2, 3, 4, 5]\n",
    "\n",
    "for x in a :\n",
    "    print(x * 5)"
   ]
  },
  {
   "cell_type": "code",
   "execution_count": 4,
   "id": "c6749c4c",
   "metadata": {},
   "outputs": [
    {
     "name": "stdout",
     "output_type": "stream",
     "text": [
      "KP\n",
      "KP\n",
      "KP\n",
      "KP\n",
      "KP\n"
     ]
    }
   ],
   "source": [
    "for i in range(5):\n",
    "    print(\"KP\")"
   ]
  },
  {
   "cell_type": "code",
   "execution_count": 5,
   "id": "50bac162",
   "metadata": {},
   "outputs": [
    {
     "name": "stdout",
     "output_type": "stream",
     "text": [
      "1\n",
      "3\n",
      "5\n",
      "7\n",
      "9\n"
     ]
    }
   ],
   "source": [
    "for i in range(1, 10, 2):\n",
    "    print(i)"
   ]
  },
  {
   "cell_type": "code",
   "execution_count": 9,
   "id": "50d115a0",
   "metadata": {},
   "outputs": [
    {
     "name": "stdout",
     "output_type": "stream",
     "text": [
      "value of summ is -  6\n",
      "value of summ is -  11\n",
      "value of summ is -  14\n",
      "value of summ is -  22\n",
      "value of summ is -  26\n",
      "value of summ is -  28\n",
      "value of summ is -  39\n",
      "The result is :  39\n"
     ]
    }
   ],
   "source": [
    "numbers = [6, 5, 3, 8, 4, 2, 11]\n",
    "\n",
    "summ = 0\n",
    "\n",
    "for val in numbers :\n",
    "               summ = summ + val\n",
    "               print(\"value of summ is - \", summ)\n",
    "    \n",
    "print(\"The result is : \" , summ)"
   ]
  },
  {
   "cell_type": "code",
   "execution_count": null,
   "id": "89f69596",
   "metadata": {},
   "outputs": [],
   "source": []
  }
 ],
 "metadata": {
  "kernelspec": {
   "display_name": "Python 3",
   "language": "python",
   "name": "python3"
  },
  "language_info": {
   "codemirror_mode": {
    "name": "ipython",
    "version": 3
   },
   "file_extension": ".py",
   "mimetype": "text/x-python",
   "name": "python",
   "nbconvert_exporter": "python",
   "pygments_lexer": "ipython3",
   "version": "3.8.8"
  }
 },
 "nbformat": 4,
 "nbformat_minor": 5
}
