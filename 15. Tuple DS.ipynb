{
 "cells": [
  {
   "cell_type": "code",
   "execution_count": 1,
   "id": "3c0d62e3",
   "metadata": {},
   "outputs": [],
   "source": [
    "# tuple is similar to a list ; but it does not support any change in the elements once it's assighned."
   ]
  },
  {
   "cell_type": "code",
   "execution_count": 2,
   "id": "21b2485b",
   "metadata": {},
   "outputs": [],
   "source": [
    "a = (1, 2, 3)"
   ]
  },
  {
   "cell_type": "code",
   "execution_count": 3,
   "id": "e1092f5a",
   "metadata": {},
   "outputs": [
    {
     "data": {
      "text/plain": [
       "tuple"
      ]
     },
     "execution_count": 3,
     "metadata": {},
     "output_type": "execute_result"
    }
   ],
   "source": [
    "type(a)"
   ]
  },
  {
   "cell_type": "code",
   "execution_count": 4,
   "id": "2584fa40",
   "metadata": {},
   "outputs": [],
   "source": [
    "b = (\"car\", \"bike\")"
   ]
  },
  {
   "cell_type": "code",
   "execution_count": 5,
   "id": "5e240b94",
   "metadata": {},
   "outputs": [
    {
     "data": {
      "text/plain": [
       "tuple"
      ]
     },
     "execution_count": 5,
     "metadata": {},
     "output_type": "execute_result"
    }
   ],
   "source": [
    "type(b)"
   ]
  },
  {
   "cell_type": "code",
   "execution_count": 6,
   "id": "c426ba10",
   "metadata": {},
   "outputs": [],
   "source": [
    "c = (True, 11, 34.5, \"python\")"
   ]
  },
  {
   "cell_type": "code",
   "execution_count": 7,
   "id": "808bad14",
   "metadata": {},
   "outputs": [
    {
     "data": {
      "text/plain": [
       "tuple"
      ]
     },
     "execution_count": 7,
     "metadata": {},
     "output_type": "execute_result"
    }
   ],
   "source": [
    "type(c)"
   ]
  },
  {
   "cell_type": "code",
   "execution_count": 8,
   "id": "aa612f60",
   "metadata": {},
   "outputs": [],
   "source": [
    "x = ()"
   ]
  },
  {
   "cell_type": "code",
   "execution_count": 9,
   "id": "aa300acf",
   "metadata": {},
   "outputs": [
    {
     "data": {
      "text/plain": [
       "tuple"
      ]
     },
     "execution_count": 9,
     "metadata": {},
     "output_type": "execute_result"
    }
   ],
   "source": [
    "type(x)"
   ]
  },
  {
   "cell_type": "code",
   "execution_count": 10,
   "id": "e3e204e9",
   "metadata": {},
   "outputs": [
    {
     "name": "stdout",
     "output_type": "stream",
     "text": [
      "()\n"
     ]
    }
   ],
   "source": [
    "print(x)"
   ]
  },
  {
   "cell_type": "code",
   "execution_count": 11,
   "id": "efab730c",
   "metadata": {},
   "outputs": [],
   "source": [
    "y = tuple()"
   ]
  },
  {
   "cell_type": "code",
   "execution_count": 12,
   "id": "28014502",
   "metadata": {},
   "outputs": [
    {
     "name": "stdout",
     "output_type": "stream",
     "text": [
      "()\n"
     ]
    }
   ],
   "source": [
    "print(y)"
   ]
  },
  {
   "cell_type": "code",
   "execution_count": 13,
   "id": "4bdd9afe",
   "metadata": {},
   "outputs": [],
   "source": [
    "tup = (12, 45.6, [\"a\", \"b\", \"c\"], (1, 4, \"zz\"))"
   ]
  },
  {
   "cell_type": "code",
   "execution_count": 14,
   "id": "7310633a",
   "metadata": {},
   "outputs": [
    {
     "data": {
      "text/plain": [
       "tuple"
      ]
     },
     "execution_count": 14,
     "metadata": {},
     "output_type": "execute_result"
    }
   ],
   "source": [
    "type(tup)"
   ]
  },
  {
   "cell_type": "code",
   "execution_count": 15,
   "id": "28941b13",
   "metadata": {},
   "outputs": [],
   "source": [
    "# tuple packing\n",
    "\n",
    "myt = \"mango\", \"apple\", \"banana\""
   ]
  },
  {
   "cell_type": "code",
   "execution_count": 16,
   "id": "4ce06c07",
   "metadata": {},
   "outputs": [
    {
     "data": {
      "text/plain": [
       "tuple"
      ]
     },
     "execution_count": 16,
     "metadata": {},
     "output_type": "execute_result"
    }
   ],
   "source": [
    "type(myt)"
   ]
  },
  {
   "cell_type": "code",
   "execution_count": 17,
   "id": "5b20e72d",
   "metadata": {},
   "outputs": [
    {
     "name": "stdout",
     "output_type": "stream",
     "text": [
      "('mango', 'apple', 'banana')\n"
     ]
    }
   ],
   "source": [
    "print(myt)"
   ]
  },
  {
   "cell_type": "code",
   "execution_count": 18,
   "id": "1fbdfea6",
   "metadata": {},
   "outputs": [
    {
     "data": {
      "text/plain": [
       "('mango', 'apple', 'banana')"
      ]
     },
     "execution_count": 18,
     "metadata": {},
     "output_type": "execute_result"
    }
   ],
   "source": [
    "myt"
   ]
  },
  {
   "cell_type": "code",
   "execution_count": 19,
   "id": "bae84a66",
   "metadata": {},
   "outputs": [],
   "source": [
    "# tuple unpacking "
   ]
  },
  {
   "cell_type": "code",
   "execution_count": 20,
   "id": "c69b5098",
   "metadata": {},
   "outputs": [],
   "source": [
    "x, y, z = myt"
   ]
  },
  {
   "cell_type": "code",
   "execution_count": 21,
   "id": "cf6cc0ad",
   "metadata": {},
   "outputs": [
    {
     "name": "stdout",
     "output_type": "stream",
     "text": [
      "mango\n"
     ]
    }
   ],
   "source": [
    "print(x)"
   ]
  },
  {
   "cell_type": "code",
   "execution_count": 22,
   "id": "88aee966",
   "metadata": {},
   "outputs": [
    {
     "name": "stdout",
     "output_type": "stream",
     "text": [
      "apple\n"
     ]
    }
   ],
   "source": [
    "print(y)"
   ]
  },
  {
   "cell_type": "code",
   "execution_count": 23,
   "id": "c48152a8",
   "metadata": {},
   "outputs": [
    {
     "name": "stdout",
     "output_type": "stream",
     "text": [
      "banana\n"
     ]
    }
   ],
   "source": [
    "print(z)"
   ]
  },
  {
   "cell_type": "markdown",
   "id": "0b23ffb5",
   "metadata": {},
   "source": [
    "<hr><hr>"
   ]
  },
  {
   "cell_type": "code",
   "execution_count": 24,
   "id": "b49775af",
   "metadata": {},
   "outputs": [],
   "source": [
    "# list unpacking\n",
    "\n",
    "a = [1, 2, 8]\n",
    "\n",
    "p, q, r = a\n"
   ]
  },
  {
   "cell_type": "code",
   "execution_count": 25,
   "id": "790bc290",
   "metadata": {},
   "outputs": [
    {
     "name": "stdout",
     "output_type": "stream",
     "text": [
      "1\n"
     ]
    }
   ],
   "source": [
    "print(p)"
   ]
  },
  {
   "cell_type": "code",
   "execution_count": 26,
   "id": "fc2ef53c",
   "metadata": {},
   "outputs": [
    {
     "name": "stdout",
     "output_type": "stream",
     "text": [
      "2\n"
     ]
    }
   ],
   "source": [
    "print(q)"
   ]
  },
  {
   "cell_type": "code",
   "execution_count": 27,
   "id": "79c56809",
   "metadata": {},
   "outputs": [
    {
     "name": "stdout",
     "output_type": "stream",
     "text": [
      "8\n"
     ]
    }
   ],
   "source": [
    "print(r)"
   ]
  },
  {
   "cell_type": "code",
   "execution_count": null,
   "id": "b5d38247",
   "metadata": {},
   "outputs": [],
   "source": []
  }
 ],
 "metadata": {
  "kernelspec": {
   "display_name": "Python 3",
   "language": "python",
   "name": "python3"
  },
  "language_info": {
   "codemirror_mode": {
    "name": "ipython",
    "version": 3
   },
   "file_extension": ".py",
   "mimetype": "text/x-python",
   "name": "python",
   "nbconvert_exporter": "python",
   "pygments_lexer": "ipython3",
   "version": "3.8.8"
  }
 },
 "nbformat": 4,
 "nbformat_minor": 5
}
