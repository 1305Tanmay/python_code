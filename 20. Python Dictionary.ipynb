{
 "cells": [
  {
   "cell_type": "code",
   "execution_count": 1,
   "id": "35594bdb",
   "metadata": {},
   "outputs": [],
   "source": [
    "# d is used to store data in a key-value pair\n",
    "# d is a ordered collection , changeable, does not allow duplicates\n",
    "# d allows multiple diff. values"
   ]
  },
  {
   "cell_type": "code",
   "execution_count": 2,
   "id": "77fbb020",
   "metadata": {},
   "outputs": [],
   "source": [
    "myd = { \"fname\" : \"KP\", \"lname\" : \"Sahoo\", \"contact\": 12345678 , \"location\": \"IN\" }"
   ]
  },
  {
   "cell_type": "code",
   "execution_count": 3,
   "id": "aab9de8e",
   "metadata": {},
   "outputs": [
    {
     "data": {
      "text/plain": [
       "dict"
      ]
     },
     "execution_count": 3,
     "metadata": {},
     "output_type": "execute_result"
    }
   ],
   "source": [
    "type(myd)"
   ]
  },
  {
   "cell_type": "code",
   "execution_count": 4,
   "id": "cc252585",
   "metadata": {},
   "outputs": [
    {
     "name": "stdout",
     "output_type": "stream",
     "text": [
      "{'fname': 'KP', 'lname': 'Sahoo', 'contact': 12345678, 'location': 'IN'}\n"
     ]
    }
   ],
   "source": [
    "print(myd)"
   ]
  },
  {
   "cell_type": "code",
   "execution_count": 5,
   "id": "141c9b92",
   "metadata": {},
   "outputs": [],
   "source": [
    "myd = { \n",
    "    \"fname\" : \"KP\",\n",
    "    \"lname\" : \"Sahoo\",\n",
    "    \"contact\": 12345678 ,\n",
    "    \"location\": \"IN\" ,\n",
    "}"
   ]
  },
  {
   "cell_type": "code",
   "execution_count": 6,
   "id": "659b0cba",
   "metadata": {},
   "outputs": [
    {
     "data": {
      "text/plain": [
       "dict"
      ]
     },
     "execution_count": 6,
     "metadata": {},
     "output_type": "execute_result"
    }
   ],
   "source": [
    "type(myd)"
   ]
  },
  {
   "cell_type": "code",
   "execution_count": 7,
   "id": "2a716b73",
   "metadata": {},
   "outputs": [
    {
     "data": {
      "text/plain": [
       "12345678"
      ]
     },
     "execution_count": 7,
     "metadata": {},
     "output_type": "execute_result"
    }
   ],
   "source": [
    "myd[\"contact\"]"
   ]
  },
  {
   "cell_type": "code",
   "execution_count": 8,
   "id": "fa2175a8",
   "metadata": {},
   "outputs": [],
   "source": [
    "myd = { \n",
    "    \"fname\" : \"KP\",\n",
    "    \"lname\" : \"Sahoo\",\n",
    "    \"contact\": 12345678 ,\n",
    "    \"location\": \"IN\" ,\n",
    "    \"fname\" : \"KP\",\n",
    "    \"lname\" : \"Sahoo\",\n",
    "    \"location\": \"IN\" ,\n",
    "}"
   ]
  },
  {
   "cell_type": "code",
   "execution_count": 9,
   "id": "89e9beae",
   "metadata": {},
   "outputs": [
    {
     "name": "stdout",
     "output_type": "stream",
     "text": [
      "{'fname': 'KP', 'lname': 'Sahoo', 'contact': 12345678, 'location': 'IN'}\n"
     ]
    }
   ],
   "source": [
    "print(myd)"
   ]
  },
  {
   "cell_type": "code",
   "execution_count": 10,
   "id": "7dca0622",
   "metadata": {},
   "outputs": [
    {
     "data": {
      "text/plain": [
       "4"
      ]
     },
     "execution_count": 10,
     "metadata": {},
     "output_type": "execute_result"
    }
   ],
   "source": [
    "len(myd)"
   ]
  },
  {
   "cell_type": "code",
   "execution_count": null,
   "id": "c7e8b02f",
   "metadata": {},
   "outputs": [],
   "source": []
  }
 ],
 "metadata": {
  "kernelspec": {
   "display_name": "Python 3",
   "language": "python",
   "name": "python3"
  },
  "language_info": {
   "codemirror_mode": {
    "name": "ipython",
    "version": 3
   },
   "file_extension": ".py",
   "mimetype": "text/x-python",
   "name": "python",
   "nbconvert_exporter": "python",
   "pygments_lexer": "ipython3",
   "version": "3.8.8"
  }
 },
 "nbformat": 4,
 "nbformat_minor": 5
}
