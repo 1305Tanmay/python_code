{
 "cells": [
  {
   "cell_type": "markdown",
   "id": "3e09dd40",
   "metadata": {},
   "source": [
    "---\n",
    "WELCOME GUYS !!!"
   ]
  },
  {
   "cell_type": "markdown",
   "id": "7ebc19fa",
   "metadata": {},
   "source": [
    "### Comparison Operators\n"
   ]
  },
  {
   "cell_type": "code",
   "execution_count": 14,
   "id": "1ab493f8",
   "metadata": {},
   "outputs": [],
   "source": [
    "# i am assigning the value of a\n",
    "a = 10\n",
    "\n",
    "# i am assigning the value of b\n",
    "b = 60"
   ]
  },
  {
   "cell_type": "code",
   "execution_count": 15,
   "id": "cec889a7",
   "metadata": {},
   "outputs": [],
   "source": [
    "# less , greater, less than equals, gretaer than equals, equals, not equals"
   ]
  },
  {
   "cell_type": "code",
   "execution_count": 16,
   "id": "873a1402",
   "metadata": {},
   "outputs": [
    {
     "name": "stdout",
     "output_type": "stream",
     "text": [
      "True\n"
     ]
    }
   ],
   "source": [
    "# less\n",
    "\n",
    "print(a < b)"
   ]
  },
  {
   "cell_type": "code",
   "execution_count": 17,
   "id": "5834ad11",
   "metadata": {},
   "outputs": [
    {
     "name": "stdout",
     "output_type": "stream",
     "text": [
      "False\n"
     ]
    }
   ],
   "source": [
    "# greater\n",
    "\n",
    "print(a>b)"
   ]
  },
  {
   "cell_type": "code",
   "execution_count": 18,
   "id": "f738debd",
   "metadata": {},
   "outputs": [
    {
     "name": "stdout",
     "output_type": "stream",
     "text": [
      "True\n"
     ]
    }
   ],
   "source": [
    "#less than equals\n",
    "\n",
    "print(a <= b)"
   ]
  },
  {
   "cell_type": "code",
   "execution_count": 19,
   "id": "7edc4e46",
   "metadata": {},
   "outputs": [
    {
     "name": "stdout",
     "output_type": "stream",
     "text": [
      "False\n"
     ]
    }
   ],
   "source": [
    "#greater than equals\n",
    "\n",
    "print(a >= b)"
   ]
  },
  {
   "cell_type": "code",
   "execution_count": 21,
   "id": "f7f9fd80",
   "metadata": {},
   "outputs": [
    {
     "name": "stdout",
     "output_type": "stream",
     "text": [
      "False\n"
     ]
    }
   ],
   "source": [
    "# equality\n",
    "\n",
    "print(a == b)"
   ]
  },
  {
   "cell_type": "code",
   "execution_count": 22,
   "id": "913980d9",
   "metadata": {},
   "outputs": [
    {
     "name": "stdout",
     "output_type": "stream",
     "text": [
      "True\n"
     ]
    }
   ],
   "source": [
    "# not equality\n",
    "\n",
    "print(a != b)"
   ]
  },
  {
   "cell_type": "markdown",
   "id": "a2f11426",
   "metadata": {},
   "source": [
    "### some more functionalities wrt assignment operator"
   ]
  },
  {
   "cell_type": "code",
   "execution_count": 32,
   "id": "43a9e425",
   "metadata": {},
   "outputs": [
    {
     "name": "stdout",
     "output_type": "stream",
     "text": [
      "20\n"
     ]
    }
   ],
   "source": [
    "x = 20\n",
    "print(x)"
   ]
  },
  {
   "cell_type": "code",
   "execution_count": 33,
   "id": "2ad73210",
   "metadata": {},
   "outputs": [
    {
     "name": "stdout",
     "output_type": "stream",
     "text": [
      "21\n"
     ]
    }
   ],
   "source": [
    "x += 1     # x += 1 is same as x = x + 1\n",
    "print(x)"
   ]
  },
  {
   "cell_type": "code",
   "execution_count": 34,
   "id": "e2bac459",
   "metadata": {},
   "outputs": [
    {
     "name": "stdout",
     "output_type": "stream",
     "text": [
      "42\n"
     ]
    }
   ],
   "source": [
    "x *= 2\n",
    "print(x)"
   ]
  },
  {
   "cell_type": "code",
   "execution_count": 35,
   "id": "3c28265b",
   "metadata": {},
   "outputs": [
    {
     "name": "stdout",
     "output_type": "stream",
     "text": [
      "0\n"
     ]
    }
   ],
   "source": [
    "x %= 3\n",
    "print(x)"
   ]
  }
 ],
 "metadata": {
  "kernelspec": {
   "display_name": "Python 3",
   "language": "python",
   "name": "python3"
  },
  "language_info": {
   "codemirror_mode": {
    "name": "ipython",
    "version": 3
   },
   "file_extension": ".py",
   "mimetype": "text/x-python",
   "name": "python",
   "nbconvert_exporter": "python",
   "pygments_lexer": "ipython3",
   "version": "3.8.8"
  }
 },
 "nbformat": 4,
 "nbformat_minor": 5
}
