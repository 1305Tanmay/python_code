{
 "cells": [
  {
   "cell_type": "code",
   "execution_count": 33,
   "id": "52f65bde",
   "metadata": {},
   "outputs": [],
   "source": [
    "myt = (\"python\")"
   ]
  },
  {
   "cell_type": "code",
   "execution_count": 34,
   "id": "5d6c6760",
   "metadata": {},
   "outputs": [
    {
     "data": {
      "text/plain": [
       "str"
      ]
     },
     "execution_count": 34,
     "metadata": {},
     "output_type": "execute_result"
    }
   ],
   "source": [
    "type(myt)"
   ]
  },
  {
   "cell_type": "code",
   "execution_count": 35,
   "id": "b376f770",
   "metadata": {},
   "outputs": [
    {
     "data": {
      "text/plain": [
       "tuple"
      ]
     },
     "execution_count": 35,
     "metadata": {},
     "output_type": "execute_result"
    }
   ],
   "source": [
    "myt = (\"python\",)\n",
    "type(myt)"
   ]
  },
  {
   "cell_type": "code",
   "execution_count": 36,
   "id": "dd0f1e3a",
   "metadata": {},
   "outputs": [],
   "source": [
    "t = \"car\","
   ]
  },
  {
   "cell_type": "code",
   "execution_count": 37,
   "id": "597272ff",
   "metadata": {},
   "outputs": [
    {
     "data": {
      "text/plain": [
       "tuple"
      ]
     },
     "execution_count": 37,
     "metadata": {},
     "output_type": "execute_result"
    }
   ],
   "source": [
    "type(t)"
   ]
  },
  {
   "cell_type": "code",
   "execution_count": 38,
   "id": "6b81daaf",
   "metadata": {},
   "outputs": [],
   "source": [
    "# accessing tuple elements using indexing"
   ]
  },
  {
   "cell_type": "code",
   "execution_count": 39,
   "id": "3617939a",
   "metadata": {},
   "outputs": [],
   "source": [
    "tup = (\"car\", \"bike\", \"aeroplane\")"
   ]
  },
  {
   "cell_type": "code",
   "execution_count": 40,
   "id": "75cb10f6",
   "metadata": {},
   "outputs": [
    {
     "data": {
      "text/plain": [
       "'bike'"
      ]
     },
     "execution_count": 40,
     "metadata": {},
     "output_type": "execute_result"
    }
   ],
   "source": [
    "tup[1]"
   ]
  },
  {
   "cell_type": "code",
   "execution_count": 41,
   "id": "0adbb625",
   "metadata": {},
   "outputs": [],
   "source": [
    "tup = (\"car\", \"bike\", \"aeroplane\", [1, 3, 9], (34, 78.9, 0))"
   ]
  },
  {
   "cell_type": "code",
   "execution_count": 42,
   "id": "8346c248",
   "metadata": {},
   "outputs": [
    {
     "data": {
      "text/plain": [
       "'aeroplane'"
      ]
     },
     "execution_count": 42,
     "metadata": {},
     "output_type": "execute_result"
    }
   ],
   "source": [
    "tup[2]"
   ]
  },
  {
   "cell_type": "code",
   "execution_count": 43,
   "id": "85977146",
   "metadata": {},
   "outputs": [
    {
     "data": {
      "text/plain": [
       "(34, 78.9, 0)"
      ]
     },
     "execution_count": 43,
     "metadata": {},
     "output_type": "execute_result"
    }
   ],
   "source": [
    "tup[4]"
   ]
  },
  {
   "cell_type": "code",
   "execution_count": 44,
   "id": "d0544b13",
   "metadata": {},
   "outputs": [
    {
     "data": {
      "text/plain": [
       "78.9"
      ]
     },
     "execution_count": 44,
     "metadata": {},
     "output_type": "execute_result"
    }
   ],
   "source": [
    "tup[4][1]"
   ]
  },
  {
   "cell_type": "code",
   "execution_count": 45,
   "id": "75a9d5af",
   "metadata": {},
   "outputs": [],
   "source": [
    "# negetive indexing"
   ]
  },
  {
   "cell_type": "code",
   "execution_count": 46,
   "id": "57590b84",
   "metadata": {},
   "outputs": [
    {
     "name": "stdout",
     "output_type": "stream",
     "text": [
      "('car', 'bike', 'aeroplane', [1, 3, 9], (34, 78.9, 0))\n"
     ]
    }
   ],
   "source": [
    "print(tup)"
   ]
  },
  {
   "cell_type": "code",
   "execution_count": 48,
   "id": "d66f321d",
   "metadata": {},
   "outputs": [
    {
     "data": {
      "text/plain": [
       "78.9"
      ]
     },
     "execution_count": 48,
     "metadata": {},
     "output_type": "execute_result"
    }
   ],
   "source": [
    "tup[-1][1]"
   ]
  },
  {
   "cell_type": "code",
   "execution_count": 49,
   "id": "cbe41283",
   "metadata": {},
   "outputs": [],
   "source": [
    "# tuples are immutable ; "
   ]
  },
  {
   "cell_type": "code",
   "execution_count": 50,
   "id": "30399196",
   "metadata": {},
   "outputs": [],
   "source": [
    "tup = (\"car\", \"bike\", \"aeroplane\")"
   ]
  },
  {
   "cell_type": "code",
   "execution_count": 51,
   "id": "798b9a23",
   "metadata": {},
   "outputs": [
    {
     "data": {
      "text/plain": [
       "'aeroplane'"
      ]
     },
     "execution_count": 51,
     "metadata": {},
     "output_type": "execute_result"
    }
   ],
   "source": [
    "tup[2]"
   ]
  },
  {
   "cell_type": "code",
   "execution_count": 52,
   "id": "6e30b5be",
   "metadata": {},
   "outputs": [
    {
     "ename": "TypeError",
     "evalue": "'tuple' object does not support item assignment",
     "output_type": "error",
     "traceback": [
      "\u001b[1;31m---------------------------------------------------------------------------\u001b[0m",
      "\u001b[1;31mTypeError\u001b[0m                                 Traceback (most recent call last)",
      "\u001b[1;32m<ipython-input-52-564fecb08ebd>\u001b[0m in \u001b[0;36m<module>\u001b[1;34m\u001b[0m\n\u001b[1;32m----> 1\u001b[1;33m \u001b[0mtup\u001b[0m\u001b[1;33m[\u001b[0m\u001b[1;36m2\u001b[0m\u001b[1;33m]\u001b[0m \u001b[1;33m=\u001b[0m \u001b[1;34m\"cycle\"\u001b[0m\u001b[1;33m\u001b[0m\u001b[1;33m\u001b[0m\u001b[0m\n\u001b[0m",
      "\u001b[1;31mTypeError\u001b[0m: 'tuple' object does not support item assignment"
     ]
    }
   ],
   "source": [
    "tup[2] = \"cycle\""
   ]
  },
  {
   "cell_type": "code",
   "execution_count": 53,
   "id": "f368ee5a",
   "metadata": {},
   "outputs": [],
   "source": [
    "# concatenation"
   ]
  },
  {
   "cell_type": "code",
   "execution_count": 54,
   "id": "ba077d45",
   "metadata": {},
   "outputs": [],
   "source": [
    "a = (1, 2, 6)\n",
    "b = (5, 9, 8)\n"
   ]
  },
  {
   "cell_type": "code",
   "execution_count": 55,
   "id": "199c0e39",
   "metadata": {},
   "outputs": [
    {
     "name": "stdout",
     "output_type": "stream",
     "text": [
      "(1, 2, 6, 5, 9, 8)\n"
     ]
    }
   ],
   "source": [
    "print(a + b)"
   ]
  },
  {
   "cell_type": "code",
   "execution_count": 56,
   "id": "6d08499a",
   "metadata": {},
   "outputs": [
    {
     "data": {
      "text/plain": [
       "tuple"
      ]
     },
     "execution_count": 56,
     "metadata": {},
     "output_type": "execute_result"
    }
   ],
   "source": [
    "type(a + b)"
   ]
  },
  {
   "cell_type": "code",
   "execution_count": 57,
   "id": "b0c69bc7",
   "metadata": {},
   "outputs": [
    {
     "data": {
      "text/plain": [
       "(1, 2, 6, 1, 2, 6, 1, 2, 6)"
      ]
     },
     "execution_count": 57,
     "metadata": {},
     "output_type": "execute_result"
    }
   ],
   "source": [
    "a * 3"
   ]
  },
  {
   "cell_type": "code",
   "execution_count": 58,
   "id": "1896c2c6",
   "metadata": {},
   "outputs": [],
   "source": [
    "# tuple deletion"
   ]
  },
  {
   "cell_type": "code",
   "execution_count": 59,
   "id": "7ae53563",
   "metadata": {},
   "outputs": [],
   "source": [
    "x = (1, 2, 6)"
   ]
  },
  {
   "cell_type": "code",
   "execution_count": 60,
   "id": "70642ce7",
   "metadata": {},
   "outputs": [
    {
     "name": "stdout",
     "output_type": "stream",
     "text": [
      "(1, 2, 6)\n"
     ]
    }
   ],
   "source": [
    "print(x)"
   ]
  },
  {
   "cell_type": "code",
   "execution_count": 61,
   "id": "e3cc5b83",
   "metadata": {},
   "outputs": [],
   "source": [
    "del x"
   ]
  },
  {
   "cell_type": "code",
   "execution_count": 62,
   "id": "741e7c77",
   "metadata": {},
   "outputs": [
    {
     "ename": "NameError",
     "evalue": "name 'x' is not defined",
     "output_type": "error",
     "traceback": [
      "\u001b[1;31m---------------------------------------------------------------------------\u001b[0m",
      "\u001b[1;31mNameError\u001b[0m                                 Traceback (most recent call last)",
      "\u001b[1;32m<ipython-input-62-fc17d851ef81>\u001b[0m in \u001b[0;36m<module>\u001b[1;34m\u001b[0m\n\u001b[1;32m----> 1\u001b[1;33m \u001b[0mprint\u001b[0m\u001b[1;33m(\u001b[0m\u001b[0mx\u001b[0m\u001b[1;33m)\u001b[0m\u001b[1;33m\u001b[0m\u001b[1;33m\u001b[0m\u001b[0m\n\u001b[0m",
      "\u001b[1;31mNameError\u001b[0m: name 'x' is not defined"
     ]
    }
   ],
   "source": [
    "print(x)"
   ]
  },
  {
   "cell_type": "code",
   "execution_count": 63,
   "id": "0fb7e0cf",
   "metadata": {},
   "outputs": [
    {
     "name": "stdout",
     "output_type": "stream",
     "text": [
      "[1, 2, 3]\n"
     ]
    }
   ],
   "source": [
    "y = [1, 2, 3]\n",
    "print(y)"
   ]
  },
  {
   "cell_type": "code",
   "execution_count": 64,
   "id": "420e40ce",
   "metadata": {},
   "outputs": [],
   "source": [
    "del y"
   ]
  },
  {
   "cell_type": "code",
   "execution_count": 65,
   "id": "c1e62758",
   "metadata": {},
   "outputs": [
    {
     "ename": "NameError",
     "evalue": "name 'y' is not defined",
     "output_type": "error",
     "traceback": [
      "\u001b[1;31m---------------------------------------------------------------------------\u001b[0m",
      "\u001b[1;31mNameError\u001b[0m                                 Traceback (most recent call last)",
      "\u001b[1;32m<ipython-input-65-d9183e048de3>\u001b[0m in \u001b[0;36m<module>\u001b[1;34m\u001b[0m\n\u001b[1;32m----> 1\u001b[1;33m \u001b[0mprint\u001b[0m\u001b[1;33m(\u001b[0m\u001b[0my\u001b[0m\u001b[1;33m)\u001b[0m\u001b[1;33m\u001b[0m\u001b[1;33m\u001b[0m\u001b[0m\n\u001b[0m",
      "\u001b[1;31mNameError\u001b[0m: name 'y' is not defined"
     ]
    }
   ],
   "source": [
    "print(y)"
   ]
  },
  {
   "cell_type": "markdown",
   "id": "fed15d5e",
   "metadata": {},
   "source": [
    "### tuple methods"
   ]
  },
  {
   "cell_type": "code",
   "execution_count": 66,
   "id": "16861920",
   "metadata": {},
   "outputs": [
    {
     "data": {
      "text/plain": [
       "tuple"
      ]
     },
     "execution_count": 66,
     "metadata": {},
     "output_type": "execute_result"
    }
   ],
   "source": [
    "# count\n",
    "\n",
    "tup = (\"car\", \"bike\", \"aeroplane\", \"bike\", \"aeroplane\", \"bike\", \"aeroplane\",\"car\")\n",
    "type(tup)"
   ]
  },
  {
   "cell_type": "code",
   "execution_count": 67,
   "id": "85129d62",
   "metadata": {},
   "outputs": [
    {
     "data": {
      "text/plain": [
       "2"
      ]
     },
     "execution_count": 67,
     "metadata": {},
     "output_type": "execute_result"
    }
   ],
   "source": [
    "tup.count(\"car\")"
   ]
  },
  {
   "cell_type": "code",
   "execution_count": 68,
   "id": "14995b3c",
   "metadata": {},
   "outputs": [
    {
     "data": {
      "text/plain": [
       "3"
      ]
     },
     "execution_count": 68,
     "metadata": {},
     "output_type": "execute_result"
    }
   ],
   "source": [
    "tup.count(\"bike\")"
   ]
  },
  {
   "cell_type": "code",
   "execution_count": 69,
   "id": "9d8385dd",
   "metadata": {},
   "outputs": [],
   "source": [
    "# index"
   ]
  },
  {
   "cell_type": "code",
   "execution_count": 70,
   "id": "fb275d0e",
   "metadata": {},
   "outputs": [],
   "source": [
    "x = (\"aa\", \"bb\", \"cc\", \"dd\")"
   ]
  },
  {
   "cell_type": "code",
   "execution_count": 71,
   "id": "e6d89ea0",
   "metadata": {},
   "outputs": [
    {
     "data": {
      "text/plain": [
       "('aa', 'bb', 'cc', 'dd')"
      ]
     },
     "execution_count": 71,
     "metadata": {},
     "output_type": "execute_result"
    }
   ],
   "source": [
    "x"
   ]
  },
  {
   "cell_type": "code",
   "execution_count": 72,
   "id": "4a53be6e",
   "metadata": {},
   "outputs": [
    {
     "data": {
      "text/plain": [
       "0"
      ]
     },
     "execution_count": 72,
     "metadata": {},
     "output_type": "execute_result"
    }
   ],
   "source": [
    "x.index(\"aa\")"
   ]
  },
  {
   "cell_type": "code",
   "execution_count": 73,
   "id": "4fc3e61d",
   "metadata": {},
   "outputs": [
    {
     "data": {
      "text/plain": [
       "3"
      ]
     },
     "execution_count": 73,
     "metadata": {},
     "output_type": "execute_result"
    }
   ],
   "source": [
    "x.index(\"dd\")"
   ]
  },
  {
   "cell_type": "code",
   "execution_count": null,
   "id": "5af2ebfe",
   "metadata": {},
   "outputs": [],
   "source": []
  }
 ],
 "metadata": {
  "kernelspec": {
   "display_name": "Python 3",
   "language": "python",
   "name": "python3"
  },
  "language_info": {
   "codemirror_mode": {
    "name": "ipython",
    "version": 3
   },
   "file_extension": ".py",
   "mimetype": "text/x-python",
   "name": "python",
   "nbconvert_exporter": "python",
   "pygments_lexer": "ipython3",
   "version": "3.8.8"
  }
 },
 "nbformat": 4,
 "nbformat_minor": 5
}
