{
 "cells": [
  {
   "cell_type": "markdown",
   "id": "772b0a52",
   "metadata": {},
   "source": [
    "<b>Welcome</b>"
   ]
  },
  {
   "cell_type": "code",
   "execution_count": 1,
   "id": "27ce73ef",
   "metadata": {},
   "outputs": [
    {
     "name": "stdout",
     "output_type": "stream",
     "text": [
      "KP\n"
     ]
    }
   ],
   "source": [
    "name = \"KP\"\n",
    "print(name)"
   ]
  },
  {
   "cell_type": "code",
   "execution_count": 2,
   "id": "ce8fbab0",
   "metadata": {},
   "outputs": [
    {
     "name": "stdout",
     "output_type": "stream",
     "text": [
      "KP\n"
     ]
    }
   ],
   "source": [
    "name = 'KP'\n",
    "print(name)"
   ]
  },
  {
   "cell_type": "code",
   "execution_count": 3,
   "id": "ddd1c4d2",
   "metadata": {},
   "outputs": [
    {
     "name": "stdout",
     "output_type": "stream",
     "text": [
      "KP\n"
     ]
    }
   ],
   "source": [
    "name = '''KP'''\n",
    "print(name)"
   ]
  },
  {
   "cell_type": "code",
   "execution_count": 4,
   "id": "f6774d0d",
   "metadata": {},
   "outputs": [
    {
     "name": "stdout",
     "output_type": "stream",
     "text": [
      "KP\n"
     ]
    }
   ],
   "source": [
    "name = \"\"\"KP\"\"\"\n",
    "print(name)"
   ]
  },
  {
   "cell_type": "code",
   "execution_count": 5,
   "id": "9464c563",
   "metadata": {},
   "outputs": [
    {
     "name": "stdout",
     "output_type": "stream",
     "text": [
      "KP is good boiii .....\n"
     ]
    }
   ],
   "source": [
    "aaa = \"KP is good boiii .....\"\n",
    "print(aaa)"
   ]
  },
  {
   "cell_type": "code",
   "execution_count": 6,
   "id": "b51dadf8",
   "metadata": {},
   "outputs": [
    {
     "ename": "SyntaxError",
     "evalue": "invalid syntax (<ipython-input-6-b111741538c1>, line 1)",
     "output_type": "error",
     "traceback": [
      "\u001b[1;36m  File \u001b[1;32m\"<ipython-input-6-b111741538c1>\"\u001b[1;36m, line \u001b[1;32m1\u001b[0m\n\u001b[1;33m    aaa = \"KP is \"good boiii .....\"\u001b[0m\n\u001b[1;37m                  ^\u001b[0m\n\u001b[1;31mSyntaxError\u001b[0m\u001b[1;31m:\u001b[0m invalid syntax\n"
     ]
    }
   ],
   "source": [
    "aaa = \"KP is \"good boiii .....\"\n",
    "print(aaa)"
   ]
  },
  {
   "cell_type": "code",
   "execution_count": 7,
   "id": "b0ff2fbf",
   "metadata": {},
   "outputs": [
    {
     "name": "stdout",
     "output_type": "stream",
     "text": [
      "KP is \"good boiii .....\n"
     ]
    }
   ],
   "source": [
    "aaa = \"KP is \\\"good boiii .....\"\n",
    "print(aaa)"
   ]
  },
  {
   "cell_type": "code",
   "execution_count": 8,
   "id": "e9c5e830",
   "metadata": {},
   "outputs": [
    {
     "name": "stdout",
     "output_type": "stream",
     "text": [
      "KP is 'good' boiii .....\n"
     ]
    }
   ],
   "source": [
    "aaa = \"KP is 'good' boiii .....\"\n",
    "print(aaa)"
   ]
  },
  {
   "cell_type": "code",
   "execution_count": 9,
   "id": "50d5eaed",
   "metadata": {},
   "outputs": [
    {
     "name": "stdout",
     "output_type": "stream",
     "text": [
      "KP is \"good boiii .....\n"
     ]
    }
   ],
   "source": [
    "aaa = \"\"\"KP is \"good boiii .....\"\"\"\n",
    "print(aaa)"
   ]
  },
  {
   "cell_type": "code",
   "execution_count": 11,
   "id": "a81bfbad",
   "metadata": {},
   "outputs": [
    {
     "name": "stdout",
     "output_type": "stream",
     "text": [
      "  'a  a'  \n"
     ]
    }
   ],
   "source": [
    "b = \"\"\"  'a  a'  \"\"\"\n",
    "print(b)"
   ]
  },
  {
   "cell_type": "code",
   "execution_count": 13,
   "id": "a6ea1810",
   "metadata": {},
   "outputs": [
    {
     "name": "stdout",
     "output_type": "stream",
     "text": [
      "This is YouTube \n",
      " platform\n"
     ]
    }
   ],
   "source": [
    "z = \"This is YouTube \\n platform\"\n",
    "print(z)"
   ]
  },
  {
   "cell_type": "code",
   "execution_count": 14,
   "id": "0ecd1071",
   "metadata": {},
   "outputs": [
    {
     "name": "stdout",
     "output_type": "stream",
     "text": [
      "This is YouTube \\n platform\n"
     ]
    }
   ],
   "source": [
    "z = r\"This is YouTube \\n platform\"\n",
    "print(z)"
   ]
  },
  {
   "cell_type": "code",
   "execution_count": 15,
   "id": "6caaba64",
   "metadata": {},
   "outputs": [
    {
     "name": "stdout",
     "output_type": "stream",
     "text": [
      "This is YouTube \\n platform\n"
     ]
    }
   ],
   "source": [
    "z = \"This is YouTube \\\\n platform\"\n",
    "print(z)"
   ]
  },
  {
   "cell_type": "code",
   "execution_count": 16,
   "id": "ec945d9a",
   "metadata": {},
   "outputs": [
    {
     "name": "stdout",
     "output_type": "stream",
     "text": [
      "This is YouTube \t platform\n"
     ]
    }
   ],
   "source": [
    "z = \"This is YouTube \\t platform\"\n",
    "print(z)"
   ]
  },
  {
   "cell_type": "code",
   "execution_count": 17,
   "id": "483ee5f0",
   "metadata": {},
   "outputs": [
    {
     "name": "stdout",
     "output_type": "stream",
     "text": [
      "This is YouTube \\t platform\n"
     ]
    }
   ],
   "source": [
    "z = \"This is YouTube \\\\t platform\"\n",
    "print(z)"
   ]
  },
  {
   "cell_type": "code",
   "execution_count": 18,
   "id": "09af8042",
   "metadata": {},
   "outputs": [],
   "source": [
    "# string concatenation"
   ]
  },
  {
   "cell_type": "code",
   "execution_count": 19,
   "id": "47974564",
   "metadata": {},
   "outputs": [
    {
     "name": "stdout",
     "output_type": "stream",
     "text": [
      "KPis learning python\n"
     ]
    }
   ],
   "source": [
    "name = \"KP\"\n",
    "statement = \"is learning python\"\n",
    "print(name + statement)"
   ]
  },
  {
   "cell_type": "code",
   "execution_count": 20,
   "id": "5b3f8e34",
   "metadata": {},
   "outputs": [
    {
     "name": "stdout",
     "output_type": "stream",
     "text": [
      "KP is learning python\n"
     ]
    }
   ],
   "source": [
    "name = \"KP \"\n",
    "statement = \"is learning python\"\n",
    "print(name + statement)"
   ]
  },
  {
   "cell_type": "code",
   "execution_count": 21,
   "id": "fc22b3ea",
   "metadata": {},
   "outputs": [
    {
     "name": "stdout",
     "output_type": "stream",
     "text": [
      "KP is learning python\n"
     ]
    }
   ],
   "source": [
    "name = \"KP\"\n",
    "statement = \" is learning python\"\n",
    "print(name + statement)"
   ]
  },
  {
   "cell_type": "code",
   "execution_count": 24,
   "id": "1a559d12",
   "metadata": {},
   "outputs": [
    {
     "name": "stdout",
     "output_type": "stream",
     "text": [
      "KP is learning python\n"
     ]
    }
   ],
   "source": [
    "name = \"KP\"\n",
    "statement = \"is learning python\"\n",
    "print(name + \" \" + statement)"
   ]
  },
  {
   "cell_type": "code",
   "execution_count": 25,
   "id": "3c32e7cd",
   "metadata": {},
   "outputs": [
    {
     "name": "stdout",
     "output_type": "stream",
     "text": [
      "hey    bro !!\n"
     ]
    }
   ],
   "source": [
    "print(\"hey\" + \"    \" + \"bro !!\") "
   ]
  },
  {
   "cell_type": "code",
   "execution_count": 26,
   "id": "7de4c35d",
   "metadata": {},
   "outputs": [
    {
     "name": "stdout",
     "output_type": "stream",
     "text": [
      "My name is KP Sahoo\n"
     ]
    }
   ],
   "source": [
    "fname = \"KP\"\n",
    "lname = \"Sahoo\"\n",
    "print(\"My name is {} {}\".format(fname, lname))"
   ]
  },
  {
   "cell_type": "code",
   "execution_count": 27,
   "id": "37e80fb8",
   "metadata": {},
   "outputs": [
    {
     "name": "stdout",
     "output_type": "stream",
     "text": [
      "My name is KP Sahoo\n"
     ]
    }
   ],
   "source": [
    "fname = \"KP\"\n",
    "lname = \"Sahoo\"\n",
    "print(\"My name is {0} {1}\".format(fname, lname))"
   ]
  },
  {
   "cell_type": "code",
   "execution_count": 28,
   "id": "d8adc53f",
   "metadata": {},
   "outputs": [
    {
     "name": "stdout",
     "output_type": "stream",
     "text": [
      "My name is Sahoo KP\n"
     ]
    }
   ],
   "source": [
    "fname = \"KP\"\n",
    "lname = \"Sahoo\"\n",
    "print(\"My name is {1} {0}\".format(fname, lname))"
   ]
  },
  {
   "cell_type": "code",
   "execution_count": null,
   "id": "82661b5b",
   "metadata": {},
   "outputs": [],
   "source": []
  }
 ],
 "metadata": {
  "kernelspec": {
   "display_name": "Python 3",
   "language": "python",
   "name": "python3"
  },
  "language_info": {
   "codemirror_mode": {
    "name": "ipython",
    "version": 3
   },
   "file_extension": ".py",
   "mimetype": "text/x-python",
   "name": "python",
   "nbconvert_exporter": "python",
   "pygments_lexer": "ipython3",
   "version": "3.8.8"
  }
 },
 "nbformat": 4,
 "nbformat_minor": 5
}
