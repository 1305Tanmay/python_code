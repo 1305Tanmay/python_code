{
 "cells": [
  {
   "cell_type": "code",
   "execution_count": 5,
   "id": "92da2a6f",
   "metadata": {},
   "outputs": [],
   "source": [
    "# identity operator\n",
    "\n",
    "#    - is\n",
    "#    - is not   "
   ]
  },
  {
   "cell_type": "code",
   "execution_count": 2,
   "id": "45ba7be3",
   "metadata": {},
   "outputs": [],
   "source": [
    "x = 55\n",
    "y = 55"
   ]
  },
  {
   "cell_type": "code",
   "execution_count": 3,
   "id": "eccedfeb",
   "metadata": {},
   "outputs": [
    {
     "data": {
      "text/plain": [
       "True"
      ]
     },
     "execution_count": 3,
     "metadata": {},
     "output_type": "execute_result"
    }
   ],
   "source": [
    "x is y"
   ]
  },
  {
   "cell_type": "code",
   "execution_count": 4,
   "id": "9b65a190",
   "metadata": {},
   "outputs": [
    {
     "data": {
      "text/plain": [
       "False"
      ]
     },
     "execution_count": 4,
     "metadata": {},
     "output_type": "execute_result"
    }
   ],
   "source": [
    "x = 55\n",
    "y = 5565\n",
    "\n",
    "x is y"
   ]
  },
  {
   "cell_type": "code",
   "execution_count": 6,
   "id": "4abb5a65",
   "metadata": {},
   "outputs": [
    {
     "data": {
      "text/plain": [
       "False"
      ]
     },
     "execution_count": 6,
     "metadata": {},
     "output_type": "execute_result"
    }
   ],
   "source": [
    "x = 55\n",
    "y = 55\n",
    "\n",
    "x is not y"
   ]
  },
  {
   "cell_type": "code",
   "execution_count": 7,
   "id": "5682e068",
   "metadata": {},
   "outputs": [
    {
     "data": {
      "text/plain": [
       "True"
      ]
     },
     "execution_count": 7,
     "metadata": {},
     "output_type": "execute_result"
    }
   ],
   "source": [
    "x = 55\n",
    "y = 553\n",
    "\n",
    "x is not y"
   ]
  },
  {
   "cell_type": "code",
   "execution_count": 11,
   "id": "69385b05",
   "metadata": {},
   "outputs": [],
   "source": [
    "# Membership Operators\n",
    "#    - in\n",
    "#    - not in"
   ]
  },
  {
   "cell_type": "code",
   "execution_count": 9,
   "id": "6ddc510f",
   "metadata": {},
   "outputs": [],
   "source": [
    "fruits = [\"apple\", \"banana\", \"mango\"]"
   ]
  },
  {
   "cell_type": "code",
   "execution_count": 10,
   "id": "48c569a6",
   "metadata": {},
   "outputs": [
    {
     "data": {
      "text/plain": [
       "False"
      ]
     },
     "execution_count": 10,
     "metadata": {},
     "output_type": "execute_result"
    }
   ],
   "source": [
    "\"cherry\" in fruits"
   ]
  },
  {
   "cell_type": "code",
   "execution_count": 12,
   "id": "e8c4ee7b",
   "metadata": {},
   "outputs": [
    {
     "data": {
      "text/plain": [
       "True"
      ]
     },
     "execution_count": 12,
     "metadata": {},
     "output_type": "execute_result"
    }
   ],
   "source": [
    "\"apple\" in fruits"
   ]
  },
  {
   "cell_type": "code",
   "execution_count": 13,
   "id": "37c50409",
   "metadata": {},
   "outputs": [
    {
     "data": {
      "text/plain": [
       "True"
      ]
     },
     "execution_count": 13,
     "metadata": {},
     "output_type": "execute_result"
    }
   ],
   "source": [
    "\"grapes\" not in fruits"
   ]
  },
  {
   "cell_type": "code",
   "execution_count": 14,
   "id": "8d4fa1ec",
   "metadata": {},
   "outputs": [
    {
     "data": {
      "text/plain": [
       "False"
      ]
     },
     "execution_count": 14,
     "metadata": {},
     "output_type": "execute_result"
    }
   ],
   "source": [
    "\"mango\" not in fruits"
   ]
  },
  {
   "cell_type": "code",
   "execution_count": 15,
   "id": "77accc50",
   "metadata": {},
   "outputs": [],
   "source": [
    "# tuple membership test"
   ]
  },
  {
   "cell_type": "code",
   "execution_count": 16,
   "id": "17db24fc",
   "metadata": {},
   "outputs": [],
   "source": [
    "my_tuple = (\"x\", \"y\", \"z\")"
   ]
  },
  {
   "cell_type": "code",
   "execution_count": 17,
   "id": "f55f6795",
   "metadata": {},
   "outputs": [
    {
     "data": {
      "text/plain": [
       "('x', 'y', 'z')"
      ]
     },
     "execution_count": 17,
     "metadata": {},
     "output_type": "execute_result"
    }
   ],
   "source": [
    "my_tuple"
   ]
  },
  {
   "cell_type": "code",
   "execution_count": 18,
   "id": "14cdaeee",
   "metadata": {},
   "outputs": [
    {
     "data": {
      "text/plain": [
       "True"
      ]
     },
     "execution_count": 18,
     "metadata": {},
     "output_type": "execute_result"
    }
   ],
   "source": [
    "\"x\" in my_tuple"
   ]
  },
  {
   "cell_type": "code",
   "execution_count": 19,
   "id": "ab5028a0",
   "metadata": {},
   "outputs": [
    {
     "data": {
      "text/plain": [
       "False"
      ]
     },
     "execution_count": 19,
     "metadata": {},
     "output_type": "execute_result"
    }
   ],
   "source": [
    "\"w\" in my_tuple"
   ]
  },
  {
   "cell_type": "code",
   "execution_count": 20,
   "id": "cc27022e",
   "metadata": {},
   "outputs": [
    {
     "data": {
      "text/plain": [
       "False"
      ]
     },
     "execution_count": 20,
     "metadata": {},
     "output_type": "execute_result"
    }
   ],
   "source": [
    "\"y\" not in my_tuple"
   ]
  },
  {
   "cell_type": "code",
   "execution_count": 21,
   "id": "354115bd",
   "metadata": {},
   "outputs": [
    {
     "data": {
      "text/plain": [
       "True"
      ]
     },
     "execution_count": 21,
     "metadata": {},
     "output_type": "execute_result"
    }
   ],
   "source": [
    "\"k\" not in my_tuple"
   ]
  },
  {
   "cell_type": "code",
   "execution_count": null,
   "id": "cfe78038",
   "metadata": {},
   "outputs": [],
   "source": []
  }
 ],
 "metadata": {
  "kernelspec": {
   "display_name": "Python 3",
   "language": "python",
   "name": "python3"
  },
  "language_info": {
   "codemirror_mode": {
    "name": "ipython",
    "version": 3
   },
   "file_extension": ".py",
   "mimetype": "text/x-python",
   "name": "python",
   "nbconvert_exporter": "python",
   "pygments_lexer": "ipython3",
   "version": "3.8.8"
  }
 },
 "nbformat": 4,
 "nbformat_minor": 5
}
