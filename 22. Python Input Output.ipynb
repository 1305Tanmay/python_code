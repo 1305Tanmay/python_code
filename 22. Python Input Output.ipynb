{
 "cells": [
  {
   "cell_type": "markdown",
   "id": "791249e3",
   "metadata": {},
   "source": [
    "### output"
   ]
  },
  {
   "cell_type": "code",
   "execution_count": 1,
   "id": "50dd458c",
   "metadata": {},
   "outputs": [
    {
     "name": "stdout",
     "output_type": "stream",
     "text": [
      "This is a simple output\n"
     ]
    }
   ],
   "source": [
    "print(\"This is a simple output\")"
   ]
  },
  {
   "cell_type": "code",
   "execution_count": 6,
   "id": "e1ca362f",
   "metadata": {},
   "outputs": [
    {
     "name": "stdout",
     "output_type": "stream",
     "text": [
      "the value of a = 678\n",
      "the value of a = 678\n"
     ]
    }
   ],
   "source": [
    "a = '678'\n",
    "\n",
    "print(\"the value of a =\", a)\n",
    "\n",
    "print(\"the value of a = \"+ a)"
   ]
  },
  {
   "cell_type": "code",
   "execution_count": 7,
   "id": "bce4f7d1",
   "metadata": {},
   "outputs": [
    {
     "name": "stdout",
     "output_type": "stream",
     "text": [
      "x y z\n"
     ]
    }
   ],
   "source": [
    "print(\"x\", \"y\", \"z\")"
   ]
  },
  {
   "cell_type": "code",
   "execution_count": 9,
   "id": "03b55a42",
   "metadata": {},
   "outputs": [
    {
     "name": "stdout",
     "output_type": "stream",
     "text": [
      "x y z\n"
     ]
    }
   ],
   "source": [
    "print(\"x \" + \"y \" + \"z\")"
   ]
  },
  {
   "cell_type": "code",
   "execution_count": 10,
   "id": "da4c40b2",
   "metadata": {},
   "outputs": [
    {
     "name": "stdout",
     "output_type": "stream",
     "text": [
      "hello\n"
     ]
    }
   ],
   "source": [
    "print(\"hello\", sep=' ', end='\\n')"
   ]
  },
  {
   "cell_type": "code",
   "execution_count": 11,
   "id": "71440431",
   "metadata": {},
   "outputs": [
    {
     "name": "stdout",
     "output_type": "stream",
     "text": [
      "hello\n"
     ]
    }
   ],
   "source": [
    "print(\"hello\", sep='-', end='\\n')"
   ]
  },
  {
   "cell_type": "code",
   "execution_count": 12,
   "id": "265555f1",
   "metadata": {},
   "outputs": [
    {
     "name": "stdout",
     "output_type": "stream",
     "text": [
      "hello-python\n"
     ]
    }
   ],
   "source": [
    "print(\"hello\", \"python\" , sep='-', end='\\n')"
   ]
  },
  {
   "cell_type": "code",
   "execution_count": 13,
   "id": "1986043b",
   "metadata": {},
   "outputs": [
    {
     "name": "stdout",
     "output_type": "stream",
     "text": [
      "hello*python\n"
     ]
    }
   ],
   "source": [
    "print(\"hello\", \"python\" , sep='*', end='\\n')"
   ]
  },
  {
   "cell_type": "code",
   "execution_count": 14,
   "id": "56b69536",
   "metadata": {},
   "outputs": [
    {
     "name": "stdout",
     "output_type": "stream",
     "text": [
      "hello!@#$python\n"
     ]
    }
   ],
   "source": [
    "print(\"hello\", \"python\" , sep='!@#$', end='\\n')"
   ]
  },
  {
   "cell_type": "code",
   "execution_count": 21,
   "id": "370b4324",
   "metadata": {},
   "outputs": [
    {
     "name": "stdout",
     "output_type": "stream",
     "text": [
      "hello python--------------------hello java\thello scala-1\n"
     ]
    }
   ],
   "source": [
    "print(\"hello\", \"python\" ,  end='--------------------')\n",
    "print(\"hello\", \"java\" , end='\\t')\n",
    "print(\"hello\", \"scala\" ,  end='-')\n",
    "print(1)"
   ]
  },
  {
   "cell_type": "code",
   "execution_count": 22,
   "id": "fe6628b3",
   "metadata": {},
   "outputs": [
    {
     "name": "stdout",
     "output_type": "stream",
     "text": [
      "hello_guys@"
     ]
    }
   ],
   "source": [
    "print(\"hello\", \"guys\" , sep='_', end='@')"
   ]
  },
  {
   "cell_type": "code",
   "execution_count": 24,
   "id": "c02b3a62",
   "metadata": {},
   "outputs": [
    {
     "name": "stdout",
     "output_type": "stream",
     "text": [
      "The value of x is 200 and y is 100 \n"
     ]
    }
   ],
   "source": [
    "x = 100\n",
    "y = 200\n",
    "\n",
    "print(\"The value of x is {1} and y is {0} \".format(x, y))"
   ]
  },
  {
   "cell_type": "markdown",
   "id": "51be4e6c",
   "metadata": {},
   "source": [
    "### input"
   ]
  },
  {
   "cell_type": "code",
   "execution_count": 25,
   "id": "686b38e9",
   "metadata": {},
   "outputs": [
    {
     "name": "stdout",
     "output_type": "stream",
     "text": [
      "7\n"
     ]
    },
    {
     "data": {
      "text/plain": [
       "'7'"
      ]
     },
     "execution_count": 25,
     "metadata": {},
     "output_type": "execute_result"
    }
   ],
   "source": [
    "input()"
   ]
  },
  {
   "cell_type": "code",
   "execution_count": 26,
   "id": "f1d15c39",
   "metadata": {},
   "outputs": [
    {
     "name": "stdout",
     "output_type": "stream",
     "text": [
      "KP\n"
     ]
    }
   ],
   "source": [
    "name = input()"
   ]
  },
  {
   "cell_type": "code",
   "execution_count": 27,
   "id": "4ac4548a",
   "metadata": {},
   "outputs": [
    {
     "name": "stdout",
     "output_type": "stream",
     "text": [
      "KP\n"
     ]
    }
   ],
   "source": [
    "print(name)"
   ]
  },
  {
   "cell_type": "code",
   "execution_count": 28,
   "id": "e29c3a2b",
   "metadata": {},
   "outputs": [
    {
     "name": "stdout",
     "output_type": "stream",
     "text": [
      "KP\n",
      "1111\n"
     ]
    }
   ],
   "source": [
    "name = input()\n",
    "contact = input()"
   ]
  },
  {
   "cell_type": "code",
   "execution_count": 29,
   "id": "ba6be752",
   "metadata": {},
   "outputs": [
    {
     "name": "stdout",
     "output_type": "stream",
     "text": [
      "KP 1111\n"
     ]
    }
   ],
   "source": [
    "print(name, contact)"
   ]
  },
  {
   "cell_type": "code",
   "execution_count": 30,
   "id": "f070b0de",
   "metadata": {},
   "outputs": [
    {
     "data": {
      "text/plain": [
       "str"
      ]
     },
     "execution_count": 30,
     "metadata": {},
     "output_type": "execute_result"
    }
   ],
   "source": [
    "type(contact)"
   ]
  },
  {
   "cell_type": "code",
   "execution_count": 32,
   "id": "d31093e4",
   "metadata": {},
   "outputs": [
    {
     "name": "stdout",
     "output_type": "stream",
     "text": [
      "Enter your name :KP\n",
      " Enter ur contact num :123456\n"
     ]
    }
   ],
   "source": [
    "name = input(\"Enter your name :\")\n",
    "contact = input(\" Enter ur contact num :\")"
   ]
  },
  {
   "cell_type": "markdown",
   "id": "12881391",
   "metadata": {},
   "source": [
    "### eval"
   ]
  },
  {
   "cell_type": "code",
   "execution_count": 33,
   "id": "e0be66f8",
   "metadata": {},
   "outputs": [
    {
     "data": {
      "text/plain": [
       "7"
      ]
     },
     "execution_count": 33,
     "metadata": {},
     "output_type": "execute_result"
    }
   ],
   "source": [
    "eval('2 + 5')"
   ]
  },
  {
   "cell_type": "code",
   "execution_count": 35,
   "id": "60b158ff",
   "metadata": {},
   "outputs": [
    {
     "data": {
      "text/plain": [
       "True"
      ]
     },
     "execution_count": 35,
     "metadata": {},
     "output_type": "execute_result"
    }
   ],
   "source": [
    "eval('2 > 0')"
   ]
  },
  {
   "cell_type": "code",
   "execution_count": 36,
   "id": "7857b3b2",
   "metadata": {},
   "outputs": [
    {
     "data": {
      "text/plain": [
       "True"
      ]
     },
     "execution_count": 36,
     "metadata": {},
     "output_type": "execute_result"
    }
   ],
   "source": [
    "eval('5 in [1, 2, 3, 4, 5]')"
   ]
  },
  {
   "cell_type": "code",
   "execution_count": 37,
   "id": "cd115078",
   "metadata": {},
   "outputs": [
    {
     "data": {
      "text/plain": [
       "False"
      ]
     },
     "execution_count": 37,
     "metadata": {},
     "output_type": "execute_result"
    }
   ],
   "source": [
    "eval(\"True & False\") "
   ]
  },
  {
   "cell_type": "markdown",
   "id": "239b1222",
   "metadata": {},
   "source": [
    "### id"
   ]
  },
  {
   "cell_type": "code",
   "execution_count": 38,
   "id": "bbc8a808",
   "metadata": {},
   "outputs": [],
   "source": [
    "a = 6"
   ]
  },
  {
   "cell_type": "code",
   "execution_count": 39,
   "id": "87f6d39f",
   "metadata": {},
   "outputs": [
    {
     "data": {
      "text/plain": [
       "140710820128720"
      ]
     },
     "execution_count": 39,
     "metadata": {},
     "output_type": "execute_result"
    }
   ],
   "source": [
    "id(a)"
   ]
  },
  {
   "cell_type": "code",
   "execution_count": 40,
   "id": "1c79239d",
   "metadata": {},
   "outputs": [],
   "source": [
    "a = 10"
   ]
  },
  {
   "cell_type": "code",
   "execution_count": 41,
   "id": "b4f66dc7",
   "metadata": {},
   "outputs": [
    {
     "data": {
      "text/plain": [
       "140710820128848"
      ]
     },
     "execution_count": 41,
     "metadata": {},
     "output_type": "execute_result"
    }
   ],
   "source": [
    "id(a)"
   ]
  },
  {
   "cell_type": "code",
   "execution_count": 42,
   "id": "746702fa",
   "metadata": {},
   "outputs": [],
   "source": [
    "a = {}"
   ]
  },
  {
   "cell_type": "code",
   "execution_count": 43,
   "id": "02a4c162",
   "metadata": {},
   "outputs": [
    {
     "data": {
      "text/plain": [
       "2196627638720"
      ]
     },
     "execution_count": 43,
     "metadata": {},
     "output_type": "execute_result"
    }
   ],
   "source": [
    "id(a)"
   ]
  },
  {
   "cell_type": "code",
   "execution_count": null,
   "id": "5c69d24d",
   "metadata": {},
   "outputs": [],
   "source": []
  }
 ],
 "metadata": {
  "kernelspec": {
   "display_name": "Python 3",
   "language": "python",
   "name": "python3"
  },
  "language_info": {
   "codemirror_mode": {
    "name": "ipython",
    "version": 3
   },
   "file_extension": ".py",
   "mimetype": "text/x-python",
   "name": "python",
   "nbconvert_exporter": "python",
   "pygments_lexer": "ipython3",
   "version": "3.8.8"
  }
 },
 "nbformat": 4,
 "nbformat_minor": 5
}
