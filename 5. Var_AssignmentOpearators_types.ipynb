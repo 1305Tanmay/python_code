{
 "cells": [
  {
   "cell_type": "markdown",
   "id": "38ab3c27",
   "metadata": {},
   "source": [
    "## Variables"
   ]
  },
  {
   "cell_type": "code",
   "execution_count": 1,
   "id": "7d294b39",
   "metadata": {},
   "outputs": [],
   "source": [
    "my_phone_number = 111111111"
   ]
  },
  {
   "cell_type": "code",
   "execution_count": 7,
   "id": "01cd5c0d",
   "metadata": {},
   "outputs": [
    {
     "ename": "SyntaxError",
     "evalue": "invalid syntax (<ipython-input-7-f0cb5deb148a>, line 1)",
     "output_type": "error",
     "traceback": [
      "\u001b[1;36m  File \u001b[1;32m\"<ipython-input-7-f0cb5deb148a>\"\u001b[1;36m, line \u001b[1;32m1\u001b[0m\n\u001b[1;33m    my phone number = 111111111\u001b[0m\n\u001b[1;37m       ^\u001b[0m\n\u001b[1;31mSyntaxError\u001b[0m\u001b[1;31m:\u001b[0m invalid syntax\n"
     ]
    }
   ],
   "source": [
    "my phone number = 111111111"
   ]
  },
  {
   "cell_type": "code",
   "execution_count": 2,
   "id": "b78aecde",
   "metadata": {},
   "outputs": [],
   "source": [
    "x = 55"
   ]
  },
  {
   "cell_type": "markdown",
   "id": "11cfdddc",
   "metadata": {},
   "source": [
    "## rules for variable naming convention"
   ]
  },
  {
   "cell_type": "markdown",
   "id": "4f8620df",
   "metadata": {},
   "source": [
    "1. start with a letter : not with a number\n",
    "2. do not give space while declaring a variable with 2 words\n",
    "3. don't use reserved keywords"
   ]
  },
  {
   "cell_type": "code",
   "execution_count": 3,
   "id": "bbc0fa8c",
   "metadata": {},
   "outputs": [],
   "source": [
    "xxxxxx = 11"
   ]
  },
  {
   "cell_type": "code",
   "execution_count": 4,
   "id": "c3e4b539",
   "metadata": {},
   "outputs": [
    {
     "ename": "SyntaxError",
     "evalue": "invalid syntax (<ipython-input-4-f14f56c6a72b>, line 1)",
     "output_type": "error",
     "traceback": [
      "\u001b[1;36m  File \u001b[1;32m\"<ipython-input-4-f14f56c6a72b>\"\u001b[1;36m, line \u001b[1;32m1\u001b[0m\n\u001b[1;33m    111ttgghh = 11\u001b[0m\n\u001b[1;37m       ^\u001b[0m\n\u001b[1;31mSyntaxError\u001b[0m\u001b[1;31m:\u001b[0m invalid syntax\n"
     ]
    }
   ],
   "source": [
    "111ttgghh = 11"
   ]
  },
  {
   "cell_type": "code",
   "execution_count": 5,
   "id": "dcd9579c",
   "metadata": {},
   "outputs": [],
   "source": [
    "yyy56oo = 7"
   ]
  },
  {
   "cell_type": "code",
   "execution_count": 6,
   "id": "430efcc9",
   "metadata": {},
   "outputs": [],
   "source": [
    "_kp = 0"
   ]
  },
  {
   "cell_type": "code",
   "execution_count": 9,
   "id": "8998efe2",
   "metadata": {},
   "outputs": [
    {
     "ename": "SyntaxError",
     "evalue": "cannot assign to False (<ipython-input-9-3e55c518fef0>, line 1)",
     "output_type": "error",
     "traceback": [
      "\u001b[1;36m  File \u001b[1;32m\"<ipython-input-9-3e55c518fef0>\"\u001b[1;36m, line \u001b[1;32m1\u001b[0m\n\u001b[1;33m    False = 67\u001b[0m\n\u001b[1;37m    ^\u001b[0m\n\u001b[1;31mSyntaxError\u001b[0m\u001b[1;31m:\u001b[0m cannot assign to False\n"
     ]
    }
   ],
   "source": [
    "False = 67"
   ]
  },
  {
   "cell_type": "markdown",
   "id": "da0d002e",
   "metadata": {},
   "source": [
    "## types"
   ]
  },
  {
   "cell_type": "code",
   "execution_count": 11,
   "id": "558a10f0",
   "metadata": {},
   "outputs": [],
   "source": [
    "yyyy56oo = 7"
   ]
  },
  {
   "cell_type": "code",
   "execution_count": 12,
   "id": "09ecb7f2",
   "metadata": {},
   "outputs": [
    {
     "data": {
      "text/plain": [
       "int"
      ]
     },
     "execution_count": 12,
     "metadata": {},
     "output_type": "execute_result"
    }
   ],
   "source": [
    "type(yyyy56oo)"
   ]
  },
  {
   "cell_type": "code",
   "execution_count": 13,
   "id": "092d5bd4",
   "metadata": {},
   "outputs": [],
   "source": [
    "kp = 77.7777"
   ]
  },
  {
   "cell_type": "code",
   "execution_count": 14,
   "id": "194f80c9",
   "metadata": {},
   "outputs": [
    {
     "data": {
      "text/plain": [
       "float"
      ]
     },
     "execution_count": 14,
     "metadata": {},
     "output_type": "execute_result"
    }
   ],
   "source": [
    "type(kp)"
   ]
  },
  {
   "cell_type": "markdown",
   "id": "1d808790",
   "metadata": {},
   "source": [
    "string = sequence of characters"
   ]
  },
  {
   "cell_type": "code",
   "execution_count": 15,
   "id": "4c0d539e",
   "metadata": {},
   "outputs": [],
   "source": [
    "MyName = \"KP Sahoo\""
   ]
  },
  {
   "cell_type": "code",
   "execution_count": 16,
   "id": "11ae51d5",
   "metadata": {},
   "outputs": [
    {
     "data": {
      "text/plain": [
       "str"
      ]
     },
     "execution_count": 16,
     "metadata": {},
     "output_type": "execute_result"
    }
   ],
   "source": [
    "type(MyName)"
   ]
  },
  {
   "cell_type": "code",
   "execution_count": 17,
   "id": "a6b801d7",
   "metadata": {},
   "outputs": [
    {
     "data": {
      "text/plain": [
       "bool"
      ]
     },
     "execution_count": 17,
     "metadata": {},
     "output_type": "execute_result"
    }
   ],
   "source": [
    "type(True)"
   ]
  },
  {
   "cell_type": "code",
   "execution_count": 18,
   "id": "18ecfb75",
   "metadata": {},
   "outputs": [
    {
     "data": {
      "text/plain": [
       "bool"
      ]
     },
     "execution_count": 18,
     "metadata": {},
     "output_type": "execute_result"
    }
   ],
   "source": [
    "type(False)"
   ]
  },
  {
   "cell_type": "code",
   "execution_count": null,
   "id": "971fc0c7",
   "metadata": {},
   "outputs": [],
   "source": []
  }
 ],
 "metadata": {
  "kernelspec": {
   "display_name": "Python 3",
   "language": "python",
   "name": "python3"
  },
  "language_info": {
   "codemirror_mode": {
    "name": "ipython",
    "version": 3
   },
   "file_extension": ".py",
   "mimetype": "text/x-python",
   "name": "python",
   "nbconvert_exporter": "python",
   "pygments_lexer": "ipython3",
   "version": "3.8.8"
  }
 },
 "nbformat": 4,
 "nbformat_minor": 5
}
