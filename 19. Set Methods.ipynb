{
 "cells": [
  {
   "cell_type": "code",
   "execution_count": 1,
   "id": "519c3d15",
   "metadata": {},
   "outputs": [],
   "source": [
    "# add an element into the set\n",
    "\n",
    "vehicles = {\"car\", \"bike\", \"cycle\"}"
   ]
  },
  {
   "cell_type": "code",
   "execution_count": 2,
   "id": "80c5dab9",
   "metadata": {},
   "outputs": [
    {
     "data": {
      "text/plain": [
       "set"
      ]
     },
     "execution_count": 2,
     "metadata": {},
     "output_type": "execute_result"
    }
   ],
   "source": [
    "type(vehicles)"
   ]
  },
  {
   "cell_type": "code",
   "execution_count": 3,
   "id": "d9185ce8",
   "metadata": {},
   "outputs": [],
   "source": [
    "vehicles.add(\"helicopter\")"
   ]
  },
  {
   "cell_type": "code",
   "execution_count": 4,
   "id": "560a575c",
   "metadata": {},
   "outputs": [
    {
     "name": "stdout",
     "output_type": "stream",
     "text": [
      "{'cycle', 'bike', 'helicopter', 'car'}\n"
     ]
    }
   ],
   "source": [
    "print(vehicles)"
   ]
  },
  {
   "cell_type": "code",
   "execution_count": 5,
   "id": "be5b0b14",
   "metadata": {},
   "outputs": [
    {
     "name": "stdout",
     "output_type": "stream",
     "text": [
      "{'cycle', 'bike', 'helicopter', 'car'}\n"
     ]
    }
   ],
   "source": [
    "# remove all the elements from set\n",
    "\n",
    "print(vehicles)"
   ]
  },
  {
   "cell_type": "code",
   "execution_count": 6,
   "id": "c2fbede9",
   "metadata": {},
   "outputs": [],
   "source": [
    "vehicles.clear()"
   ]
  },
  {
   "cell_type": "code",
   "execution_count": 7,
   "id": "b2a86f56",
   "metadata": {},
   "outputs": [
    {
     "name": "stdout",
     "output_type": "stream",
     "text": [
      "set()\n"
     ]
    }
   ],
   "source": [
    "print(vehicles)"
   ]
  },
  {
   "cell_type": "code",
   "execution_count": 8,
   "id": "c9e0f7fa",
   "metadata": {},
   "outputs": [],
   "source": [
    "# copy all the elements"
   ]
  },
  {
   "cell_type": "code",
   "execution_count": 9,
   "id": "a54f371a",
   "metadata": {},
   "outputs": [],
   "source": [
    "vehicles = {\"car\", \"bike\", \"cycle\"}"
   ]
  },
  {
   "cell_type": "code",
   "execution_count": 10,
   "id": "48e729f3",
   "metadata": {},
   "outputs": [],
   "source": [
    "x = vehicles.copy()"
   ]
  },
  {
   "cell_type": "code",
   "execution_count": 11,
   "id": "a477ffba",
   "metadata": {},
   "outputs": [
    {
     "data": {
      "text/plain": [
       "{'bike', 'car', 'cycle'}"
      ]
     },
     "execution_count": 11,
     "metadata": {},
     "output_type": "execute_result"
    }
   ],
   "source": [
    "x"
   ]
  },
  {
   "cell_type": "code",
   "execution_count": 12,
   "id": "61f1ca8a",
   "metadata": {},
   "outputs": [],
   "source": [
    "# difference between the sets\n",
    "\n",
    "vehicles = {\"car\", \"bike\", \"cycle\"}\n",
    "x = {\"apple\", \"banana\", \"cherry\"}"
   ]
  },
  {
   "cell_type": "code",
   "execution_count": 13,
   "id": "8c361730",
   "metadata": {},
   "outputs": [
    {
     "name": "stdout",
     "output_type": "stream",
     "text": [
      "{'cherry', 'banana', 'apple'}\n"
     ]
    }
   ],
   "source": [
    "print(x.difference(vehicles))"
   ]
  },
  {
   "cell_type": "code",
   "execution_count": 14,
   "id": "5a91c6bf",
   "metadata": {},
   "outputs": [
    {
     "name": "stdout",
     "output_type": "stream",
     "text": [
      "{'banana', 'apple'}\n"
     ]
    }
   ],
   "source": [
    "vehicles = {\"car\", \"bike\", \"cycle\", \"cherry\"}\n",
    "x = {\"apple\", \"banana\", \"cherry\"}\n",
    "\n",
    "print(x.difference(vehicles))"
   ]
  },
  {
   "cell_type": "code",
   "execution_count": 15,
   "id": "62f7e62e",
   "metadata": {},
   "outputs": [],
   "source": [
    "# remove one element\n",
    "\n",
    "x = {\"apple\", \"banana\", \"cherry\"}\n",
    "\n",
    "x.discard(\"apple\")"
   ]
  },
  {
   "cell_type": "code",
   "execution_count": 16,
   "id": "91dfa02e",
   "metadata": {},
   "outputs": [
    {
     "data": {
      "text/plain": [
       "{'banana', 'cherry'}"
      ]
     },
     "execution_count": 16,
     "metadata": {},
     "output_type": "execute_result"
    }
   ],
   "source": [
    "x"
   ]
  },
  {
   "cell_type": "code",
   "execution_count": 17,
   "id": "4cb20191",
   "metadata": {},
   "outputs": [
    {
     "name": "stdout",
     "output_type": "stream",
     "text": [
      "set()\n"
     ]
    }
   ],
   "source": [
    "# intersection      # venn diagram\n",
    "\n",
    "vehicles = {\"car\", \"bike\", \"cycle\"}\n",
    "flowers = {\"rose\", \"lily\", \"lotus\"}\n",
    "\n",
    "print(vehicles.intersection(flowers))"
   ]
  },
  {
   "cell_type": "code",
   "execution_count": 18,
   "id": "b23272f8",
   "metadata": {},
   "outputs": [
    {
     "name": "stdout",
     "output_type": "stream",
     "text": [
      "{'kp'}\n"
     ]
    }
   ],
   "source": [
    "vehicles = {\"car\", \"bike\", \"cycle\", \"kp\"}\n",
    "flowers = {\"rose\", \"lily\", \"lotus\", \"kp\"}\n",
    "\n",
    "print(vehicles.intersection(flowers))"
   ]
  },
  {
   "cell_type": "code",
   "execution_count": 19,
   "id": "2d3d31fc",
   "metadata": {},
   "outputs": [
    {
     "name": "stdout",
     "output_type": "stream",
     "text": [
      "{'rose', 'cycle', 'car', 'kp', 'lotus', 'bike', 'lily'}\n"
     ]
    }
   ],
   "source": [
    "# union\n",
    "\n",
    "print(vehicles.union(flowers))"
   ]
  },
  {
   "cell_type": "code",
   "execution_count": 20,
   "id": "e2148ea2",
   "metadata": {},
   "outputs": [],
   "source": [
    "# subset\n",
    "\n",
    "a = {1, 2, 3, 4, 5, 6}\n",
    "b = {2, 6}"
   ]
  },
  {
   "cell_type": "code",
   "execution_count": 21,
   "id": "cc1605b2",
   "metadata": {},
   "outputs": [
    {
     "data": {
      "text/plain": [
       "False"
      ]
     },
     "execution_count": 21,
     "metadata": {},
     "output_type": "execute_result"
    }
   ],
   "source": [
    "a.issubset(b)"
   ]
  },
  {
   "cell_type": "code",
   "execution_count": 22,
   "id": "2b829931",
   "metadata": {},
   "outputs": [
    {
     "data": {
      "text/plain": [
       "True"
      ]
     },
     "execution_count": 22,
     "metadata": {},
     "output_type": "execute_result"
    }
   ],
   "source": [
    "b.issubset(a)"
   ]
  },
  {
   "cell_type": "code",
   "execution_count": 23,
   "id": "c8a4cc0d",
   "metadata": {},
   "outputs": [
    {
     "data": {
      "text/plain": [
       "True"
      ]
     },
     "execution_count": 23,
     "metadata": {},
     "output_type": "execute_result"
    }
   ],
   "source": [
    "# superset\n",
    "\n",
    "a.issuperset(b)"
   ]
  },
  {
   "cell_type": "code",
   "execution_count": 24,
   "id": "7f2872e6",
   "metadata": {},
   "outputs": [
    {
     "data": {
      "text/plain": [
       "False"
      ]
     },
     "execution_count": 24,
     "metadata": {},
     "output_type": "execute_result"
    }
   ],
   "source": [
    "b.issuperset(a)"
   ]
  },
  {
   "cell_type": "code",
   "execution_count": 25,
   "id": "e38a4f3d",
   "metadata": {},
   "outputs": [
    {
     "data": {
      "text/plain": [
       "'rose'"
      ]
     },
     "execution_count": 25,
     "metadata": {},
     "output_type": "execute_result"
    }
   ],
   "source": [
    "# pop\n",
    "\n",
    "flowers = {\"rose\", \"lily\", \"lotus\"}\n",
    "\n",
    "flowers.pop()"
   ]
  },
  {
   "cell_type": "code",
   "execution_count": 26,
   "id": "dc7c0220",
   "metadata": {},
   "outputs": [
    {
     "data": {
      "text/plain": [
       "{'lily', 'lotus'}"
      ]
     },
     "execution_count": 26,
     "metadata": {},
     "output_type": "execute_result"
    }
   ],
   "source": [
    "flowers\n"
   ]
  },
  {
   "cell_type": "code",
   "execution_count": 27,
   "id": "86e472a5",
   "metadata": {},
   "outputs": [
    {
     "name": "stdout",
     "output_type": "stream",
     "text": [
      "{'bike', 'car', 'kp'}\n"
     ]
    }
   ],
   "source": [
    "vehicles = {\"car\", \"bike\", \"cycle\", \"kp\"}\n",
    "vehicles.pop()\n",
    "\n",
    "print(vehicles)"
   ]
  },
  {
   "cell_type": "code",
   "execution_count": 28,
   "id": "abd2994e",
   "metadata": {},
   "outputs": [],
   "source": [
    "# update\n",
    "\n",
    "x = {\"rose\", \"lily\", \"lotus\"}\n",
    "y = {\"car\", \"bike\", \"cycle\", \"kp\"}\n",
    "\n",
    "x.update(y)"
   ]
  },
  {
   "cell_type": "code",
   "execution_count": 29,
   "id": "f223e4bd",
   "metadata": {},
   "outputs": [
    {
     "data": {
      "text/plain": [
       "{'bike', 'car', 'cycle', 'kp', 'lily', 'lotus', 'rose'}"
      ]
     },
     "execution_count": 29,
     "metadata": {},
     "output_type": "execute_result"
    }
   ],
   "source": [
    "x"
   ]
  },
  {
   "cell_type": "code",
   "execution_count": 30,
   "id": "9491791e",
   "metadata": {},
   "outputs": [
    {
     "data": {
      "text/plain": [
       "{'bike', 'car', 'cycle', 'kp'}"
      ]
     },
     "execution_count": 30,
     "metadata": {},
     "output_type": "execute_result"
    }
   ],
   "source": [
    "y"
   ]
  },
  {
   "cell_type": "code",
   "execution_count": null,
   "id": "f0102e33",
   "metadata": {},
   "outputs": [],
   "source": []
  }
 ],
 "metadata": {
  "kernelspec": {
   "display_name": "Python 3",
   "language": "python",
   "name": "python3"
  },
  "language_info": {
   "codemirror_mode": {
    "name": "ipython",
    "version": 3
   },
   "file_extension": ".py",
   "mimetype": "text/x-python",
   "name": "python",
   "nbconvert_exporter": "python",
   "pygments_lexer": "ipython3",
   "version": "3.8.8"
  }
 },
 "nbformat": 4,
 "nbformat_minor": 5
}
