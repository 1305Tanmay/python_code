{
 "cells": [
  {
   "cell_type": "code",
   "execution_count": 2,
   "id": "d7a0a235",
   "metadata": {},
   "outputs": [
    {
     "name": "stdout",
     "output_type": "stream",
     "text": [
      "['apple', 'orange', 'banana']\n"
     ]
    }
   ],
   "source": [
    "fru = [\"apple\", \"orange\", \"banana\"]\n",
    "print(fru)"
   ]
  },
  {
   "cell_type": "code",
   "execution_count": 3,
   "id": "21ae6c12",
   "metadata": {},
   "outputs": [],
   "source": [
    "# append\n",
    "\n",
    "fru.append(\"cherry\")"
   ]
  },
  {
   "cell_type": "code",
   "execution_count": 4,
   "id": "aa7999f5",
   "metadata": {},
   "outputs": [
    {
     "name": "stdout",
     "output_type": "stream",
     "text": [
      "['apple', 'orange', 'banana', 'cherry']\n"
     ]
    }
   ],
   "source": [
    "print(fru)"
   ]
  },
  {
   "cell_type": "markdown",
   "id": "80d41224",
   "metadata": {},
   "source": [
    "<hr>"
   ]
  },
  {
   "cell_type": "code",
   "execution_count": 9,
   "id": "fdb1f241",
   "metadata": {},
   "outputs": [],
   "source": [
    "fru = [\"apple\", \"orange\", \"banana\"]\n",
    "a = [1, 2, 3]\n",
    "\n",
    "fru.append(a)     # nested list"
   ]
  },
  {
   "cell_type": "code",
   "execution_count": 10,
   "id": "5c70f28f",
   "metadata": {},
   "outputs": [
    {
     "name": "stdout",
     "output_type": "stream",
     "text": [
      "['apple', 'orange', 'banana', [1, 2, 3]]\n"
     ]
    }
   ],
   "source": [
    "print(fru)"
   ]
  },
  {
   "cell_type": "markdown",
   "id": "0b685e06",
   "metadata": {},
   "source": [
    "<hr><hr>"
   ]
  },
  {
   "cell_type": "code",
   "execution_count": 11,
   "id": "c7070b45",
   "metadata": {},
   "outputs": [
    {
     "name": "stdout",
     "output_type": "stream",
     "text": [
      "1\n"
     ]
    }
   ],
   "source": [
    "fru = [\"apple\", \"orange\", \"banana\"]\n",
    "\n",
    "print(fru.index(\"orange\"))"
   ]
  },
  {
   "cell_type": "code",
   "execution_count": 12,
   "id": "8f453ff6",
   "metadata": {},
   "outputs": [
    {
     "ename": "ValueError",
     "evalue": "'guava' is not in list",
     "output_type": "error",
     "traceback": [
      "\u001b[1;31m---------------------------------------------------------------------------\u001b[0m",
      "\u001b[1;31mValueError\u001b[0m                                Traceback (most recent call last)",
      "\u001b[1;32m<ipython-input-12-bb06f75ac81d>\u001b[0m in \u001b[0;36m<module>\u001b[1;34m\u001b[0m\n\u001b[1;32m----> 1\u001b[1;33m \u001b[0mprint\u001b[0m\u001b[1;33m(\u001b[0m\u001b[0mfru\u001b[0m\u001b[1;33m.\u001b[0m\u001b[0mindex\u001b[0m\u001b[1;33m(\u001b[0m\u001b[1;34m\"guava\"\u001b[0m\u001b[1;33m)\u001b[0m\u001b[1;33m)\u001b[0m\u001b[1;33m\u001b[0m\u001b[1;33m\u001b[0m\u001b[0m\n\u001b[0m",
      "\u001b[1;31mValueError\u001b[0m: 'guava' is not in list"
     ]
    }
   ],
   "source": [
    "print(fru.index(\"guava\"))"
   ]
  },
  {
   "cell_type": "markdown",
   "id": "5d0e7a99",
   "metadata": {},
   "source": [
    "<hr><hr>"
   ]
  },
  {
   "cell_type": "code",
   "execution_count": 13,
   "id": "971b375b",
   "metadata": {},
   "outputs": [],
   "source": [
    "fru = [\"apple\", \"orange\", \"banana\"]\n",
    "\n",
    "fru.clear()"
   ]
  },
  {
   "cell_type": "code",
   "execution_count": 14,
   "id": "713edc32",
   "metadata": {},
   "outputs": [
    {
     "name": "stdout",
     "output_type": "stream",
     "text": [
      "[]\n"
     ]
    }
   ],
   "source": [
    "print(fru)"
   ]
  },
  {
   "cell_type": "markdown",
   "id": "396a4d97",
   "metadata": {},
   "source": [
    "<hr><hr>"
   ]
  },
  {
   "cell_type": "code",
   "execution_count": 16,
   "id": "f7d14310",
   "metadata": {},
   "outputs": [],
   "source": [
    "a = [\"aa\", \"bb\", \"cc\"]\n",
    "copied_list = a.copy()"
   ]
  },
  {
   "cell_type": "code",
   "execution_count": 17,
   "id": "df8a4d29",
   "metadata": {},
   "outputs": [
    {
     "name": "stdout",
     "output_type": "stream",
     "text": [
      "['aa', 'bb', 'cc']\n"
     ]
    }
   ],
   "source": [
    "print(copied_list)"
   ]
  },
  {
   "cell_type": "markdown",
   "id": "cbab6f07",
   "metadata": {},
   "source": [
    "<hr>"
   ]
  },
  {
   "cell_type": "code",
   "execution_count": 20,
   "id": "44b3683f",
   "metadata": {},
   "outputs": [
    {
     "name": "stdout",
     "output_type": "stream",
     "text": [
      "3\n"
     ]
    }
   ],
   "source": [
    "# count\n",
    "\n",
    "a = [\"aa\", \"bb\", \"cc\", \"dd\", \"aa\", \"aa\", \"bb\"]\n",
    "\n",
    "print(a.count(\"aa\"))"
   ]
  },
  {
   "cell_type": "markdown",
   "id": "af9c3838",
   "metadata": {},
   "source": [
    "<hr>"
   ]
  },
  {
   "cell_type": "code",
   "execution_count": 21,
   "id": "6da9b2ed",
   "metadata": {},
   "outputs": [],
   "source": [
    "num = [1, 2, 7, 56, 3, 0, 45, 1234567, 999999]"
   ]
  },
  {
   "cell_type": "code",
   "execution_count": 22,
   "id": "84c4079e",
   "metadata": {},
   "outputs": [
    {
     "name": "stdout",
     "output_type": "stream",
     "text": [
      "[1, 2, 7, 56, 3, 0, 45, 1234567, 999999]\n"
     ]
    }
   ],
   "source": [
    "print(num)"
   ]
  },
  {
   "cell_type": "code",
   "execution_count": 25,
   "id": "0d7f904d",
   "metadata": {},
   "outputs": [
    {
     "name": "stdout",
     "output_type": "stream",
     "text": [
      "[0, 1, 2, 3, 7, 45, 56, 999999, 1234567]\n"
     ]
    }
   ],
   "source": [
    "num.sort()\n",
    "print(num)"
   ]
  },
  {
   "cell_type": "code",
   "execution_count": 26,
   "id": "cfb94e55",
   "metadata": {},
   "outputs": [],
   "source": [
    "# reverse sort\n",
    "\n",
    "num = [1, 2, 7, 56, 3, 0, 45, 1234567, 999999]\n",
    "num.sort(reverse=True)"
   ]
  },
  {
   "cell_type": "code",
   "execution_count": 27,
   "id": "e666f1bf",
   "metadata": {},
   "outputs": [
    {
     "name": "stdout",
     "output_type": "stream",
     "text": [
      "[1234567, 999999, 56, 45, 7, 3, 2, 1, 0]\n"
     ]
    }
   ],
   "source": [
    "print(num)"
   ]
  },
  {
   "cell_type": "markdown",
   "id": "50ab8a1f",
   "metadata": {},
   "source": [
    "<hr>"
   ]
  },
  {
   "cell_type": "code",
   "execution_count": 28,
   "id": "47141443",
   "metadata": {},
   "outputs": [],
   "source": [
    "num = [1, 2, 7, 56, 3, 0, 45, 1234567, 999999]"
   ]
  },
  {
   "cell_type": "code",
   "execution_count": 29,
   "id": "eeb54dc2",
   "metadata": {},
   "outputs": [],
   "source": [
    "num.reverse()"
   ]
  },
  {
   "cell_type": "code",
   "execution_count": 30,
   "id": "a1d59911",
   "metadata": {},
   "outputs": [
    {
     "name": "stdout",
     "output_type": "stream",
     "text": [
      "[999999, 1234567, 45, 0, 3, 56, 7, 2, 1]\n"
     ]
    }
   ],
   "source": [
    "print(num)"
   ]
  },
  {
   "cell_type": "markdown",
   "id": "8d3179da",
   "metadata": {},
   "source": [
    "<hr>"
   ]
  },
  {
   "cell_type": "code",
   "execution_count": 31,
   "id": "f6cedd3d",
   "metadata": {},
   "outputs": [],
   "source": [
    "fru = [\"apple\", \"orange\", \"banana\"]"
   ]
  },
  {
   "cell_type": "code",
   "execution_count": 32,
   "id": "0a3387ae",
   "metadata": {},
   "outputs": [
    {
     "data": {
      "text/plain": [
       "'banana'"
      ]
     },
     "execution_count": 32,
     "metadata": {},
     "output_type": "execute_result"
    }
   ],
   "source": [
    "fru.pop(2)"
   ]
  },
  {
   "cell_type": "code",
   "execution_count": 33,
   "id": "9a58bdf8",
   "metadata": {},
   "outputs": [
    {
     "name": "stdout",
     "output_type": "stream",
     "text": [
      "['apple', 'orange']\n"
     ]
    }
   ],
   "source": [
    "print(fru)"
   ]
  },
  {
   "cell_type": "markdown",
   "id": "52141895",
   "metadata": {},
   "source": [
    "<hr>"
   ]
  },
  {
   "cell_type": "code",
   "execution_count": 34,
   "id": "30f775ff",
   "metadata": {},
   "outputs": [],
   "source": [
    "fru = [\"apple\", \"orange\", \"banana\"]"
   ]
  },
  {
   "cell_type": "code",
   "execution_count": 35,
   "id": "7eee5cb1",
   "metadata": {},
   "outputs": [],
   "source": [
    "fru.insert(0, \"kiwi\")"
   ]
  },
  {
   "cell_type": "code",
   "execution_count": 36,
   "id": "3e5429cb",
   "metadata": {},
   "outputs": [
    {
     "name": "stdout",
     "output_type": "stream",
     "text": [
      "['kiwi', 'apple', 'orange', 'banana']\n"
     ]
    }
   ],
   "source": [
    "print(fru)"
   ]
  },
  {
   "cell_type": "markdown",
   "id": "983cbd84",
   "metadata": {},
   "source": [
    "<hr>"
   ]
  },
  {
   "cell_type": "code",
   "execution_count": 37,
   "id": "6fff2da0",
   "metadata": {},
   "outputs": [],
   "source": [
    "fru = [\"apple\", \"orange\", \"banana\"]\n",
    "lang = [\"python\", \"java\", \"c++\"]"
   ]
  },
  {
   "cell_type": "code",
   "execution_count": 38,
   "id": "62cb8f5d",
   "metadata": {},
   "outputs": [],
   "source": [
    "fru.extend(lang)"
   ]
  },
  {
   "cell_type": "code",
   "execution_count": 39,
   "id": "a209fe96",
   "metadata": {},
   "outputs": [
    {
     "name": "stdout",
     "output_type": "stream",
     "text": [
      "['apple', 'orange', 'banana', 'python', 'java', 'c++']\n"
     ]
    }
   ],
   "source": [
    "print(fru)"
   ]
  },
  {
   "cell_type": "code",
   "execution_count": 40,
   "id": "3f497b0f",
   "metadata": {},
   "outputs": [
    {
     "data": {
      "text/plain": [
       "6"
      ]
     },
     "execution_count": 40,
     "metadata": {},
     "output_type": "execute_result"
    }
   ],
   "source": [
    "len(fru)"
   ]
  },
  {
   "cell_type": "code",
   "execution_count": null,
   "id": "b89c0fe3",
   "metadata": {},
   "outputs": [],
   "source": []
  }
 ],
 "metadata": {
  "kernelspec": {
   "display_name": "Python 3",
   "language": "python",
   "name": "python3"
  },
  "language_info": {
   "codemirror_mode": {
    "name": "ipython",
    "version": 3
   },
   "file_extension": ".py",
   "mimetype": "text/x-python",
   "name": "python",
   "nbconvert_exporter": "python",
   "pygments_lexer": "ipython3",
   "version": "3.8.8"
  }
 },
 "nbformat": 4,
 "nbformat_minor": 5
}
