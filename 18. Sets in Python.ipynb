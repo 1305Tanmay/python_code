{
 "cells": [
  {
   "cell_type": "code",
   "execution_count": 1,
   "id": "cf6ae80a",
   "metadata": {},
   "outputs": [],
   "source": [
    "# sets can be used to store multiple different values in a single variable\n",
    "# unordered / unindexed"
   ]
  },
  {
   "cell_type": "code",
   "execution_count": 2,
   "id": "d9993596",
   "metadata": {},
   "outputs": [],
   "source": [
    "myset = {\"apple\", \"banana\", \"mango\"}"
   ]
  },
  {
   "cell_type": "code",
   "execution_count": 3,
   "id": "910c6e95",
   "metadata": {},
   "outputs": [
    {
     "name": "stdout",
     "output_type": "stream",
     "text": [
      "{'apple', 'mango', 'banana'}\n"
     ]
    }
   ],
   "source": [
    "print(myset)"
   ]
  },
  {
   "cell_type": "code",
   "execution_count": 4,
   "id": "6fcde7e8",
   "metadata": {},
   "outputs": [
    {
     "data": {
      "text/plain": [
       "set"
      ]
     },
     "execution_count": 4,
     "metadata": {},
     "output_type": "execute_result"
    }
   ],
   "source": [
    "type(myset)"
   ]
  },
  {
   "cell_type": "code",
   "execution_count": 5,
   "id": "843b1204",
   "metadata": {},
   "outputs": [],
   "source": [
    "# unindexed = can't access the elements by index num."
   ]
  },
  {
   "cell_type": "code",
   "execution_count": 6,
   "id": "343d8a34",
   "metadata": {},
   "outputs": [
    {
     "ename": "TypeError",
     "evalue": "'set' object is not subscriptable",
     "output_type": "error",
     "traceback": [
      "\u001b[1;31m---------------------------------------------------------------------------\u001b[0m",
      "\u001b[1;31mTypeError\u001b[0m                                 Traceback (most recent call last)",
      "\u001b[1;32m<ipython-input-6-5445583283da>\u001b[0m in \u001b[0;36m<module>\u001b[1;34m\u001b[0m\n\u001b[1;32m----> 1\u001b[1;33m \u001b[0mmyset\u001b[0m\u001b[1;33m[\u001b[0m\u001b[1;36m0\u001b[0m\u001b[1;33m]\u001b[0m\u001b[1;33m\u001b[0m\u001b[1;33m\u001b[0m\u001b[0m\n\u001b[0m",
      "\u001b[1;31mTypeError\u001b[0m: 'set' object is not subscriptable"
     ]
    }
   ],
   "source": [
    "myset[0]"
   ]
  },
  {
   "cell_type": "code",
   "execution_count": 7,
   "id": "0e3a09d6",
   "metadata": {},
   "outputs": [],
   "source": [
    "# set does not consider duplicate values.\n"
   ]
  },
  {
   "cell_type": "code",
   "execution_count": 8,
   "id": "4c4b7c19",
   "metadata": {},
   "outputs": [],
   "source": [
    "myset = {\"apple\", \"banana\", \"mango\", \"apple\", \"banana\", \"mango\", \"apple\", \"banana\", \"mango\"}"
   ]
  },
  {
   "cell_type": "code",
   "execution_count": 14,
   "id": "6db49185",
   "metadata": {},
   "outputs": [
    {
     "data": {
      "text/plain": [
       "3"
      ]
     },
     "execution_count": 14,
     "metadata": {},
     "output_type": "execute_result"
    }
   ],
   "source": [
    "len(myset)"
   ]
  },
  {
   "cell_type": "code",
   "execution_count": 9,
   "id": "fba44ebe",
   "metadata": {},
   "outputs": [
    {
     "name": "stdout",
     "output_type": "stream",
     "text": [
      "{'apple', 'mango', 'banana'}\n"
     ]
    }
   ],
   "source": [
    "print(myset)"
   ]
  },
  {
   "cell_type": "code",
   "execution_count": 10,
   "id": "14cb12ac",
   "metadata": {},
   "outputs": [],
   "source": [
    "# once a set is created , u can't change the elements"
   ]
  },
  {
   "cell_type": "code",
   "execution_count": 11,
   "id": "a7a60112",
   "metadata": {},
   "outputs": [],
   "source": [
    "set1 = {\"apple\", \"banana\", \"mango\"}"
   ]
  },
  {
   "cell_type": "code",
   "execution_count": 12,
   "id": "fcef7f0d",
   "metadata": {},
   "outputs": [
    {
     "ename": "TypeError",
     "evalue": "'set' object does not support item assignment",
     "output_type": "error",
     "traceback": [
      "\u001b[1;31m---------------------------------------------------------------------------\u001b[0m",
      "\u001b[1;31mTypeError\u001b[0m                                 Traceback (most recent call last)",
      "\u001b[1;32m<ipython-input-12-3f5a94441965>\u001b[0m in \u001b[0;36m<module>\u001b[1;34m\u001b[0m\n\u001b[1;32m----> 1\u001b[1;33m \u001b[0mset1\u001b[0m\u001b[1;33m[\u001b[0m\u001b[1;36m1\u001b[0m\u001b[1;33m]\u001b[0m \u001b[1;33m=\u001b[0m \u001b[1;34m\"guava\"\u001b[0m\u001b[1;33m\u001b[0m\u001b[1;33m\u001b[0m\u001b[0m\n\u001b[0m",
      "\u001b[1;31mTypeError\u001b[0m: 'set' object does not support item assignment"
     ]
    }
   ],
   "source": [
    "set1[1] = \"guava\""
   ]
  },
  {
   "cell_type": "code",
   "execution_count": 13,
   "id": "d986874b",
   "metadata": {},
   "outputs": [
    {
     "data": {
      "text/plain": [
       "3"
      ]
     },
     "execution_count": 13,
     "metadata": {},
     "output_type": "execute_result"
    }
   ],
   "source": [
    "len(set1)"
   ]
  },
  {
   "cell_type": "code",
   "execution_count": 15,
   "id": "0be8199d",
   "metadata": {},
   "outputs": [],
   "source": [
    "set2 = {\"car\", 90, False, 77.89}"
   ]
  },
  {
   "cell_type": "code",
   "execution_count": 16,
   "id": "f1643e8e",
   "metadata": {},
   "outputs": [
    {
     "data": {
      "text/plain": [
       "set"
      ]
     },
     "execution_count": 16,
     "metadata": {},
     "output_type": "execute_result"
    }
   ],
   "source": [
    "type(set2)"
   ]
  },
  {
   "cell_type": "code",
   "execution_count": 18,
   "id": "127255fc",
   "metadata": {},
   "outputs": [],
   "source": [
    "newset = set( (\"apple\", \"car\", \"cycle\") )      "
   ]
  },
  {
   "cell_type": "code",
   "execution_count": 19,
   "id": "f37edc75",
   "metadata": {},
   "outputs": [
    {
     "data": {
      "text/plain": [
       "set"
      ]
     },
     "execution_count": 19,
     "metadata": {},
     "output_type": "execute_result"
    }
   ],
   "source": [
    "type(newset)"
   ]
  },
  {
   "cell_type": "code",
   "execution_count": 20,
   "id": "80c75322",
   "metadata": {},
   "outputs": [],
   "source": [
    "# empty set"
   ]
  },
  {
   "cell_type": "code",
   "execution_count": 21,
   "id": "8c727d81",
   "metadata": {},
   "outputs": [],
   "source": [
    "set10 = set()"
   ]
  },
  {
   "cell_type": "code",
   "execution_count": 22,
   "id": "e96a21ed",
   "metadata": {},
   "outputs": [
    {
     "data": {
      "text/plain": [
       "set"
      ]
     },
     "execution_count": 22,
     "metadata": {},
     "output_type": "execute_result"
    }
   ],
   "source": [
    "type(set10)"
   ]
  },
  {
   "cell_type": "markdown",
   "id": "e5f3bb9d",
   "metadata": {},
   "source": [
    "<hr><hr><hr>"
   ]
  },
  {
   "cell_type": "code",
   "execution_count": 24,
   "id": "dfd98dde",
   "metadata": {},
   "outputs": [],
   "source": [
    "# error\n",
    "# don't use this way\n",
    "\n",
    "\n",
    "test = {}\n",
    "type(test)"
   ]
  }
 ],
 "metadata": {
  "kernelspec": {
   "display_name": "Python 3",
   "language": "python",
   "name": "python3"
  },
  "language_info": {
   "codemirror_mode": {
    "name": "ipython",
    "version": 3
   },
   "file_extension": ".py",
   "mimetype": "text/x-python",
   "name": "python",
   "nbconvert_exporter": "python",
   "pygments_lexer": "ipython3",
   "version": "3.8.8"
  }
 },
 "nbformat": 4,
 "nbformat_minor": 5
}
