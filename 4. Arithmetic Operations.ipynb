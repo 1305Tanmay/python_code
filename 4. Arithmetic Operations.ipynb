{
 "cells": [
  {
   "cell_type": "markdown",
   "id": "826dc5f7",
   "metadata": {},
   "source": [
    "## Arithmetic Operations"
   ]
  },
  {
   "cell_type": "markdown",
   "id": "5be1bcb2",
   "metadata": {},
   "source": [
    "### + (addition)"
   ]
  },
  {
   "cell_type": "code",
   "execution_count": 3,
   "id": "3392163b",
   "metadata": {},
   "outputs": [
    {
     "name": "stdout",
     "output_type": "stream",
     "text": [
      "9\n"
     ]
    }
   ],
   "source": [
    "print(4 + 5)"
   ]
  },
  {
   "cell_type": "markdown",
   "id": "a42de409",
   "metadata": {},
   "source": [
    "### - (subtraction)"
   ]
  },
  {
   "cell_type": "code",
   "execution_count": 4,
   "id": "5152f47b",
   "metadata": {},
   "outputs": [
    {
     "name": "stdout",
     "output_type": "stream",
     "text": [
      "13\n"
     ]
    }
   ],
   "source": [
    "print(18 - 5)"
   ]
  },
  {
   "cell_type": "markdown",
   "id": "d57ced44",
   "metadata": {},
   "source": [
    "### * (multiplication)"
   ]
  },
  {
   "cell_type": "code",
   "execution_count": 5,
   "id": "e88492f2",
   "metadata": {},
   "outputs": [
    {
     "name": "stdout",
     "output_type": "stream",
     "text": [
      "90\n"
     ]
    }
   ],
   "source": [
    "print(18 * 5)"
   ]
  },
  {
   "cell_type": "markdown",
   "id": "ba372275",
   "metadata": {},
   "source": [
    "### / (division)"
   ]
  },
  {
   "cell_type": "code",
   "execution_count": 6,
   "id": "23917027",
   "metadata": {},
   "outputs": [
    {
     "name": "stdout",
     "output_type": "stream",
     "text": [
      "3.6\n"
     ]
    }
   ],
   "source": [
    "print(18 / 5)"
   ]
  },
  {
   "cell_type": "code",
   "execution_count": 9,
   "id": "574c9920",
   "metadata": {},
   "outputs": [
    {
     "name": "stdout",
     "output_type": "stream",
     "text": [
      "6.0\n"
     ]
    }
   ],
   "source": [
    "print(18 / 3)"
   ]
  },
  {
   "cell_type": "markdown",
   "id": "8f3ce2f5",
   "metadata": {},
   "source": [
    "###  //  (integer division)"
   ]
  },
  {
   "cell_type": "code",
   "execution_count": 7,
   "id": "58cc393e",
   "metadata": {},
   "outputs": [
    {
     "name": "stdout",
     "output_type": "stream",
     "text": [
      "3\n"
     ]
    }
   ],
   "source": [
    "print(18 // 5)"
   ]
  },
  {
   "cell_type": "code",
   "execution_count": 8,
   "id": "02b81463",
   "metadata": {},
   "outputs": [
    {
     "name": "stdout",
     "output_type": "stream",
     "text": [
      "6\n"
     ]
    }
   ],
   "source": [
    "print(18 // 3)"
   ]
  },
  {
   "cell_type": "markdown",
   "id": "09dd9c34",
   "metadata": {},
   "source": [
    "### %  (modulus)"
   ]
  },
  {
   "cell_type": "code",
   "execution_count": 10,
   "id": "64393e48",
   "metadata": {},
   "outputs": [
    {
     "name": "stdout",
     "output_type": "stream",
     "text": [
      "3\n"
     ]
    }
   ],
   "source": [
    "print(18 % 5)"
   ]
  },
  {
   "cell_type": "code",
   "execution_count": 11,
   "id": "57a497ed",
   "metadata": {},
   "outputs": [
    {
     "name": "stdout",
     "output_type": "stream",
     "text": [
      "0\n"
     ]
    }
   ],
   "source": [
    "print(18 % 3)"
   ]
  },
  {
   "cell_type": "markdown",
   "id": "8fc9b4f4",
   "metadata": {},
   "source": [
    "### ** (power)"
   ]
  },
  {
   "cell_type": "code",
   "execution_count": 14,
   "id": "adc52387",
   "metadata": {},
   "outputs": [
    {
     "name": "stdout",
     "output_type": "stream",
     "text": [
      "81\n"
     ]
    }
   ],
   "source": [
    "print(3 * 3 * 3 * 3)"
   ]
  },
  {
   "cell_type": "code",
   "execution_count": 15,
   "id": "9a63448d",
   "metadata": {},
   "outputs": [
    {
     "name": "stdout",
     "output_type": "stream",
     "text": [
      "81\n"
     ]
    }
   ],
   "source": [
    "print(3 ** 4)"
   ]
  },
  {
   "cell_type": "code",
   "execution_count": 16,
   "id": "f5a8cc20",
   "metadata": {},
   "outputs": [
    {
     "name": "stdout",
     "output_type": "stream",
     "text": [
      "18446744073709551616\n"
     ]
    }
   ],
   "source": [
    "print(16 ** 16)"
   ]
  },
  {
   "cell_type": "code",
   "execution_count": null,
   "id": "bef23a75",
   "metadata": {},
   "outputs": [],
   "source": []
  }
 ],
 "metadata": {
  "kernelspec": {
   "display_name": "Python 3",
   "language": "python",
   "name": "python3"
  },
  "language_info": {
   "codemirror_mode": {
    "name": "ipython",
    "version": 3
   },
   "file_extension": ".py",
   "mimetype": "text/x-python",
   "name": "python",
   "nbconvert_exporter": "python",
   "pygments_lexer": "ipython3",
   "version": "3.8.8"
  }
 },
 "nbformat": 4,
 "nbformat_minor": 5
}
