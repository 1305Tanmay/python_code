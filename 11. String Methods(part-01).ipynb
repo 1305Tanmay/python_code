{
 "cells": [
  {
   "cell_type": "code",
   "execution_count": 5,
   "id": "36f9fb95",
   "metadata": {},
   "outputs": [
    {
     "name": "stdout",
     "output_type": "stream",
     "text": [
      "Python\n"
     ]
    }
   ],
   "source": [
    "# converts the 1st char to upper case\n",
    "\n",
    "text = \"python\"\n",
    "\n",
    "k = text.capitalize()\n",
    "print(k)"
   ]
  },
  {
   "cell_type": "code",
   "execution_count": 24,
   "id": "57dafb34",
   "metadata": {},
   "outputs": [
    {
     "name": "stdout",
     "output_type": "stream",
     "text": [
      "Python\n"
     ]
    }
   ],
   "source": [
    "# converts the 1st char to upper case\n",
    "\n",
    "text = \"python\"\n",
    "\n",
    "k = text.title()\n",
    "print(k)"
   ]
  },
  {
   "cell_type": "code",
   "execution_count": 7,
   "id": "934fd6a7",
   "metadata": {},
   "outputs": [
    {
     "name": "stdout",
     "output_type": "stream",
     "text": [
      "kps\n"
     ]
    }
   ],
   "source": [
    "# convert string to lower case\n",
    "\n",
    "name = \"KPs\"\n",
    "k = name.casefold()\n",
    "print(k)"
   ]
  },
  {
   "cell_type": "code",
   "execution_count": 10,
   "id": "f5054fd3",
   "metadata": {},
   "outputs": [
    {
     "name": "stdout",
     "output_type": "stream",
     "text": [
      "                                                       python                                                       \n"
     ]
    }
   ],
   "source": [
    "# print string in the middle\n",
    "\n",
    "text = \"python\"\n",
    "k = text.center(116)\n",
    "print(k)"
   ]
  },
  {
   "cell_type": "code",
   "execution_count": 14,
   "id": "ee09f3e8",
   "metadata": {},
   "outputs": [
    {
     "name": "stdout",
     "output_type": "stream",
     "text": [
      "3\n",
      "7\n",
      "0\n"
     ]
    }
   ],
   "source": [
    "text = \"this is a red car & this car is beautiful. I am gonna buy this car\"\n",
    "\n",
    "k = text.count(\"car\")\n",
    "print(k)\n",
    "\n",
    "k = text.count(\"a\")\n",
    "print(k)\n",
    "\n",
    "k = text.count(\"z\")\n",
    "print(k)"
   ]
  },
  {
   "cell_type": "code",
   "execution_count": 15,
   "id": "4afad347",
   "metadata": {},
   "outputs": [],
   "source": [
    "# string to bytes type of data\n",
    "name = \"redhat\"\n",
    "k = name.encode()"
   ]
  },
  {
   "cell_type": "code",
   "execution_count": 16,
   "id": "643cb5f1",
   "metadata": {},
   "outputs": [
    {
     "name": "stdout",
     "output_type": "stream",
     "text": [
      "b'redhat'\n"
     ]
    }
   ],
   "source": [
    "print(k)"
   ]
  },
  {
   "cell_type": "code",
   "execution_count": 18,
   "id": "545f7b2e",
   "metadata": {},
   "outputs": [
    {
     "name": "stdout",
     "output_type": "stream",
     "text": [
      "<class 'str'>\n",
      "<class 'bytes'>\n"
     ]
    }
   ],
   "source": [
    "print(type(name))\n",
    "\n",
    "print(type(k))    # socket programming --> tcp, udp"
   ]
  },
  {
   "cell_type": "code",
   "execution_count": 19,
   "id": "e49239f4",
   "metadata": {},
   "outputs": [
    {
     "name": "stdout",
     "output_type": "stream",
     "text": [
      "0\n"
     ]
    }
   ],
   "source": [
    "# find index position\n",
    "\n",
    "string = \"python\"\n",
    "\n",
    "k = string.find(\"p\")\n",
    "print(k)"
   ]
  },
  {
   "cell_type": "code",
   "execution_count": 20,
   "id": "93c7b1e3",
   "metadata": {},
   "outputs": [
    {
     "name": "stdout",
     "output_type": "stream",
     "text": [
      "2\n"
     ]
    }
   ],
   "source": [
    "k = string.find(\"t\")\n",
    "print(k)"
   ]
  },
  {
   "cell_type": "code",
   "execution_count": 21,
   "id": "a992a060",
   "metadata": {},
   "outputs": [
    {
     "name": "stdout",
     "output_type": "stream",
     "text": [
      "-1\n"
     ]
    }
   ],
   "source": [
    "k = string.find(\"z\")\n",
    "print(k)"
   ]
  },
  {
   "cell_type": "code",
   "execution_count": 23,
   "id": "a8cfce23",
   "metadata": {},
   "outputs": [
    {
     "name": "stdout",
     "output_type": "stream",
     "text": [
      "10\n"
     ]
    }
   ],
   "source": [
    "# get the starting index number\n",
    "\n",
    "text = \"this is a blue car\"\n",
    "\n",
    "k = text.index(\"blue\")\n",
    "print(k)"
   ]
  },
  {
   "cell_type": "code",
   "execution_count": 26,
   "id": "b7c637bc",
   "metadata": {},
   "outputs": [
    {
     "name": "stdout",
     "output_type": "stream",
     "text": [
      "True\n",
      "False\n"
     ]
    }
   ],
   "source": [
    "# startswith\n",
    "\n",
    "text = \"hello\"\n",
    "k = text.startswith(\"h\")\n",
    "print(k)\n",
    "\n",
    "\n",
    "k = text.startswith(\"y\")\n",
    "print(k)"
   ]
  },
  {
   "cell_type": "code",
   "execution_count": 28,
   "id": "cbb00c96",
   "metadata": {},
   "outputs": [
    {
     "name": "stdout",
     "output_type": "stream",
     "text": [
      "True\n",
      "False\n"
     ]
    }
   ],
   "source": [
    "# endswith\n",
    "\n",
    "text = \"hello\"\n",
    "k = text.endswith(\"o\")\n",
    "print(k)\n",
    "\n",
    "\n",
    "k = text.endswith(\"h\")\n",
    "print(k)"
   ]
  },
  {
   "cell_type": "code",
   "execution_count": 36,
   "id": "ad008443",
   "metadata": {},
   "outputs": [
    {
     "name": "stdout",
     "output_type": "stream",
     "text": [
      "21\n",
      "       apple         \n",
      "apple\n"
     ]
    }
   ],
   "source": [
    "# trim\n",
    "\n",
    "text = \"       apple         \"\n",
    "\n",
    "print(len(text))\n",
    "print(text)\n",
    "\n",
    "x = text.strip()\n",
    "print(x)"
   ]
  },
  {
   "cell_type": "code",
   "execution_count": 37,
   "id": "71b13b6d",
   "metadata": {},
   "outputs": [
    {
     "name": "stdout",
     "output_type": "stream",
     "text": [
      "mY NAME IS kp sAHOO\n"
     ]
    }
   ],
   "source": [
    "# case swapping\n",
    "\n",
    "text = \"My name is KP Sahoo\"\n",
    "k = text.swapcase()\n",
    "print(k)"
   ]
  },
  {
   "cell_type": "code",
   "execution_count": 39,
   "id": "80ae2851",
   "metadata": {},
   "outputs": [
    {
     "name": "stdout",
     "output_type": "stream",
     "text": [
      "MY NAME IS KP SAHOO\n",
      "my name is kp sahoo\n"
     ]
    }
   ],
   "source": [
    "text = \"My name is KP Sahoo\"\n",
    "\n",
    "\n",
    "print(text.upper())\n",
    "print(text.lower())"
   ]
  },
  {
   "cell_type": "code",
   "execution_count": 42,
   "id": "f63e0985",
   "metadata": {},
   "outputs": [
    {
     "name": "stdout",
     "output_type": "stream",
     "text": [
      "0000python\n"
     ]
    }
   ],
   "source": [
    "text = \"python\"\n",
    "\n",
    "k = text.zfill(10)\n",
    "print(k)"
   ]
  },
  {
   "cell_type": "code",
   "execution_count": null,
   "id": "3d0062f2",
   "metadata": {},
   "outputs": [],
   "source": []
  }
 ],
 "metadata": {
  "kernelspec": {
   "display_name": "Python 3",
   "language": "python",
   "name": "python3"
  },
  "language_info": {
   "codemirror_mode": {
    "name": "ipython",
    "version": 3
   },
   "file_extension": ".py",
   "mimetype": "text/x-python",
   "name": "python",
   "nbconvert_exporter": "python",
   "pygments_lexer": "ipython3",
   "version": "3.8.8"
  }
 },
 "nbformat": 4,
 "nbformat_minor": 5
}
