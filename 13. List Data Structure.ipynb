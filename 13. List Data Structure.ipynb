{
 "cells": [
  {
   "cell_type": "markdown",
   "id": "afb93467",
   "metadata": {},
   "source": [
    "#### list : can be used to store mutiple heterogeneous items in a single variable"
   ]
  },
  {
   "cell_type": "code",
   "execution_count": 3,
   "id": "51bf27ce",
   "metadata": {},
   "outputs": [],
   "source": [
    "col = [\"red\", \"blue\", \"green\", \"yellow\"]"
   ]
  },
  {
   "cell_type": "code",
   "execution_count": 4,
   "id": "fd7011f1",
   "metadata": {},
   "outputs": [
    {
     "data": {
      "text/plain": [
       "list"
      ]
     },
     "execution_count": 4,
     "metadata": {},
     "output_type": "execute_result"
    }
   ],
   "source": [
    "type(col)"
   ]
  },
  {
   "cell_type": "code",
   "execution_count": 5,
   "id": "6a3ff831",
   "metadata": {},
   "outputs": [
    {
     "name": "stdout",
     "output_type": "stream",
     "text": [
      "['red', 'blue', 'green', 'yellow']\n"
     ]
    }
   ],
   "source": [
    "print(col)"
   ]
  },
  {
   "cell_type": "markdown",
   "id": "127b6370",
   "metadata": {},
   "source": [
    "#### list items are indexed / ordered"
   ]
  },
  {
   "cell_type": "code",
   "execution_count": 6,
   "id": "8ca66d71",
   "metadata": {},
   "outputs": [
    {
     "data": {
      "text/plain": [
       "'red'"
      ]
     },
     "execution_count": 6,
     "metadata": {},
     "output_type": "execute_result"
    }
   ],
   "source": [
    "col[0]"
   ]
  },
  {
   "cell_type": "code",
   "execution_count": 7,
   "id": "f4333b3a",
   "metadata": {},
   "outputs": [
    {
     "data": {
      "text/plain": [
       "'green'"
      ]
     },
     "execution_count": 7,
     "metadata": {},
     "output_type": "execute_result"
    }
   ],
   "source": [
    "col[2]"
   ]
  },
  {
   "cell_type": "markdown",
   "id": "f884b38e",
   "metadata": {},
   "source": [
    "#### list allows duplicate items"
   ]
  },
  {
   "cell_type": "code",
   "execution_count": 8,
   "id": "734c247e",
   "metadata": {},
   "outputs": [],
   "source": [
    "col = [\"red\", \"blue\", \"green\", \"yellow\", \"blue\", \"green\", \"yellow\", \"green\", \"yellow\",\"yellow\" ]"
   ]
  },
  {
   "cell_type": "code",
   "execution_count": 9,
   "id": "497c9f34",
   "metadata": {},
   "outputs": [
    {
     "name": "stdout",
     "output_type": "stream",
     "text": [
      "['red', 'blue', 'green', 'yellow', 'blue', 'green', 'yellow', 'green', 'yellow', 'yellow']\n"
     ]
    }
   ],
   "source": [
    "print(col)"
   ]
  },
  {
   "cell_type": "code",
   "execution_count": 10,
   "id": "516e5608",
   "metadata": {},
   "outputs": [
    {
     "data": {
      "text/plain": [
       "10"
      ]
     },
     "execution_count": 10,
     "metadata": {},
     "output_type": "execute_result"
    }
   ],
   "source": [
    "len(col)"
   ]
  },
  {
   "cell_type": "markdown",
   "id": "6a94b2ec",
   "metadata": {},
   "source": [
    "#### lists can contain heterogeneous items"
   ]
  },
  {
   "cell_type": "code",
   "execution_count": 11,
   "id": "b587d285",
   "metadata": {},
   "outputs": [],
   "source": [
    "mylist = [\"car\", 345, True, 90.78 ]"
   ]
  },
  {
   "cell_type": "code",
   "execution_count": 12,
   "id": "992deb40",
   "metadata": {},
   "outputs": [
    {
     "name": "stdout",
     "output_type": "stream",
     "text": [
      "['car', 345, True, 90.78]\n"
     ]
    }
   ],
   "source": [
    "print(mylist)"
   ]
  },
  {
   "cell_type": "code",
   "execution_count": 13,
   "id": "7732275c",
   "metadata": {},
   "outputs": [],
   "source": [
    "a = \"\""
   ]
  },
  {
   "cell_type": "code",
   "execution_count": 14,
   "id": "a51d8890",
   "metadata": {},
   "outputs": [
    {
     "data": {
      "text/plain": [
       "str"
      ]
     },
     "execution_count": 14,
     "metadata": {},
     "output_type": "execute_result"
    }
   ],
   "source": [
    "type(a)"
   ]
  },
  {
   "cell_type": "code",
   "execution_count": 15,
   "id": "d5ef32b4",
   "metadata": {},
   "outputs": [],
   "source": [
    "# empty list"
   ]
  },
  {
   "cell_type": "code",
   "execution_count": 16,
   "id": "c4c4bee8",
   "metadata": {},
   "outputs": [],
   "source": [
    "x = []"
   ]
  },
  {
   "cell_type": "code",
   "execution_count": 18,
   "id": "e4475c47",
   "metadata": {},
   "outputs": [
    {
     "name": "stdout",
     "output_type": "stream",
     "text": [
      "[]\n"
     ]
    }
   ],
   "source": [
    "print(x)"
   ]
  },
  {
   "cell_type": "code",
   "execution_count": 19,
   "id": "ee3d4c69",
   "metadata": {},
   "outputs": [
    {
     "data": {
      "text/plain": [
       "list"
      ]
     },
     "execution_count": 19,
     "metadata": {},
     "output_type": "execute_result"
    }
   ],
   "source": [
    "type(x)"
   ]
  },
  {
   "cell_type": "code",
   "execution_count": 20,
   "id": "9ac5d6ae",
   "metadata": {},
   "outputs": [],
   "source": [
    "y = list()"
   ]
  },
  {
   "cell_type": "code",
   "execution_count": 21,
   "id": "e3f0395a",
   "metadata": {},
   "outputs": [
    {
     "data": {
      "text/plain": [
       "[]"
      ]
     },
     "execution_count": 21,
     "metadata": {},
     "output_type": "execute_result"
    }
   ],
   "source": [
    "y"
   ]
  },
  {
   "cell_type": "markdown",
   "id": "fb7bb386",
   "metadata": {},
   "source": [
    "#### list is changable / mutable"
   ]
  },
  {
   "cell_type": "code",
   "execution_count": 22,
   "id": "eb0ac7a4",
   "metadata": {},
   "outputs": [],
   "source": [
    "col = [\"red\", \"blue\", \"green\", \"yellow\"]"
   ]
  },
  {
   "cell_type": "code",
   "execution_count": 25,
   "id": "5a32538c",
   "metadata": {},
   "outputs": [],
   "source": [
    "col[1] = \"white\""
   ]
  },
  {
   "cell_type": "code",
   "execution_count": 26,
   "id": "4da547fd",
   "metadata": {},
   "outputs": [
    {
     "data": {
      "text/plain": [
       "['red', 'white', 'green', 'yellow']"
      ]
     },
     "execution_count": 26,
     "metadata": {},
     "output_type": "execute_result"
    }
   ],
   "source": [
    "col"
   ]
  },
  {
   "cell_type": "code",
   "execution_count": 27,
   "id": "66917974",
   "metadata": {},
   "outputs": [],
   "source": [
    "col[3] = \"black\""
   ]
  },
  {
   "cell_type": "code",
   "execution_count": 28,
   "id": "3280ed3e",
   "metadata": {},
   "outputs": [
    {
     "name": "stdout",
     "output_type": "stream",
     "text": [
      "['red', 'white', 'green', 'black']\n"
     ]
    }
   ],
   "source": [
    "print(col)"
   ]
  },
  {
   "cell_type": "code",
   "execution_count": null,
   "id": "a861e039",
   "metadata": {},
   "outputs": [],
   "source": []
  }
 ],
 "metadata": {
  "kernelspec": {
   "display_name": "Python 3",
   "language": "python",
   "name": "python3"
  },
  "language_info": {
   "codemirror_mode": {
    "name": "ipython",
    "version": 3
   },
   "file_extension": ".py",
   "mimetype": "text/x-python",
   "name": "python",
   "nbconvert_exporter": "python",
   "pygments_lexer": "ipython3",
   "version": "3.8.8"
  }
 },
 "nbformat": 4,
 "nbformat_minor": 5
}
