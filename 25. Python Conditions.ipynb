{
 "cells": [
  {
   "cell_type": "code",
   "execution_count": 7,
   "id": "4ce7330f",
   "metadata": {},
   "outputs": [
    {
     "name": "stdout",
     "output_type": "stream",
     "text": [
      "Give any number :10\n",
      "The number is greater than 10\n",
      "------------------\n",
      "**********************\n"
     ]
    }
   ],
   "source": [
    "num = int(input(\"Give any number :\"))\n",
    "\n",
    "if num < 10 :\n",
    "    print(\"The number is less than 10\")\n",
    "    print(\"------------------\")\n",
    "    print(\"**********************\")\n",
    "else :\n",
    "                                 print(\"The number is greater than 10\")\n",
    "                                 print(\"------------------\")\n",
    "                                 print(\"**********************\")"
   ]
  },
  {
   "cell_type": "code",
   "execution_count": 10,
   "id": "54144aba",
   "metadata": {},
   "outputs": [
    {
     "name": "stdout",
     "output_type": "stream",
     "text": [
      "Give any number :10\n",
      "the number is 10\n"
     ]
    }
   ],
   "source": [
    "num = int(input(\"Give any number :\"))\n",
    "\n",
    "if num < 10 :\n",
    "    print(\"The number is less than 10\")\n",
    "    print(\"------------------\")\n",
    "    print(\"**********************\")\n",
    "    \n",
    "    \n",
    "elif num > 10 :\n",
    "                                 print(\"The number is greater than 10\")\n",
    "                                 print(\"------------------\")\n",
    "                                 print(\"**********************\")\n",
    "                \n",
    "else :\n",
    "    print(\"the number is 10\")"
   ]
  },
  {
   "cell_type": "markdown",
   "id": "84833c84",
   "metadata": {},
   "source": [
    "### multiple conditions"
   ]
  },
  {
   "cell_type": "raw",
   "id": "470b5e99",
   "metadata": {},
   "source": [
    "mum --> bangalore\n",
    "\n",
    "train : 2000 INR\n",
    "car : 3500 INR\n",
    "flight : 6000 INR\n",
    "helicopter : 95000 INR"
   ]
  },
  {
   "cell_type": "code",
   "execution_count": 16,
   "id": "e26e94b5",
   "metadata": {},
   "outputs": [
    {
     "name": "stdout",
     "output_type": "stream",
     "text": [
      "Just enter your budget amount.. 95000\n",
      "You can afford helicopter ...\n"
     ]
    }
   ],
   "source": [
    "budget = int(input(\"Just enter your budget amount.. \"))\n",
    "\n",
    "if budget >= 2000 and budget < 3500 :\n",
    "    print(\"You can travel in a train ..\")\n",
    "\n",
    "elif budget >= 3500 and budget < 6000 :\n",
    "    print(\"You can afford a car ..\")\n",
    "\n",
    "elif budget >= 6000 and budget < 95000 :\n",
    "    print(\"You can go in a flight ..\")\n",
    "\n",
    "elif budget >= 95000 :\n",
    "    print(\"You can afford helicopter ...\")\n",
    "    \n",
    "else :\n",
    "    print(\"Just stay at home & stay safe ...\")\n"
   ]
  },
  {
   "cell_type": "code",
   "execution_count": null,
   "id": "734571f6",
   "metadata": {},
   "outputs": [],
   "source": []
  }
 ],
 "metadata": {
  "kernelspec": {
   "display_name": "Python 3",
   "language": "python",
   "name": "python3"
  },
  "language_info": {
   "codemirror_mode": {
    "name": "ipython",
    "version": 3
   },
   "file_extension": ".py",
   "mimetype": "text/x-python",
   "name": "python",
   "nbconvert_exporter": "python",
   "pygments_lexer": "ipython3",
   "version": "3.8.8"
  }
 },
 "nbformat": 4,
 "nbformat_minor": 5
}
