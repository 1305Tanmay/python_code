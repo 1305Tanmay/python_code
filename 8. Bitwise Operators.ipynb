{
 "cells": [
  {
   "cell_type": "code",
   "execution_count": 4,
   "id": "92ef58c0",
   "metadata": {},
   "outputs": [
    {
     "name": "stdout",
     "output_type": "stream",
     "text": [
      "0\n"
     ]
    }
   ],
   "source": [
    "# bit wise and opearation\n",
    "\n",
    "\n",
    "a = 10   # 1010 (binary)\n",
    "b = 4     # 0100  (binary)\n",
    "\n",
    "print(a & b)    # 0000  (binary) -->  0 (decimal)"
   ]
  },
  {
   "cell_type": "code",
   "execution_count": 5,
   "id": "2be4876f",
   "metadata": {},
   "outputs": [
    {
     "name": "stdout",
     "output_type": "stream",
     "text": [
      "14\n"
     ]
    }
   ],
   "source": [
    "# bit wise or opearation\n",
    "\n",
    "\n",
    "a = 10   # 1010 (binary)\n",
    "b = 4    # 0100  (binary)\n",
    "\n",
    "print(a | b)    # 1110  (binary) -->  14 (decimal)"
   ]
  },
  {
   "cell_type": "code",
   "execution_count": 6,
   "id": "b62280cd",
   "metadata": {},
   "outputs": [
    {
     "name": "stdout",
     "output_type": "stream",
     "text": [
      "14\n"
     ]
    }
   ],
   "source": [
    "# bit wise xor opearation\n",
    "\n",
    "\n",
    "a = 10   # 1010 (binary)\n",
    "b = 4    # 0100  (binary)\n",
    "\n",
    "print(a ^ b)    # 1110  (binary) -->  14 (decimal)"
   ]
  },
  {
   "cell_type": "code",
   "execution_count": 8,
   "id": "b61eafde",
   "metadata": {},
   "outputs": [
    {
     "name": "stdout",
     "output_type": "stream",
     "text": [
      "-11\n"
     ]
    }
   ],
   "source": [
    "# bit wise not operation\n",
    "\n",
    "a = 10     # 1010 (binary)\n",
    "\n",
    "print(~a)   # ~(1010) = -(1010 + 1) = -(1011) = -11 (decimal)"
   ]
  },
  {
   "cell_type": "markdown",
   "id": "5144ef82",
   "metadata": {},
   "source": [
    "### Shift Opearators"
   ]
  },
  {
   "cell_type": "markdown",
   "id": "46903b93",
   "metadata": {},
   "source": [
    "2 types <br />  left shift & right shift"
   ]
  },
  {
   "cell_type": "code",
   "execution_count": 12,
   "id": "36c1124d",
   "metadata": {},
   "outputs": [
    {
     "name": "stdout",
     "output_type": "stream",
     "text": [
      "10\n"
     ]
    }
   ],
   "source": [
    "# left shift\n",
    "\n",
    "a = 5   # binary ( 0000 0101)\n",
    "\n",
    "print(a << 1)"
   ]
  },
  {
   "cell_type": "code",
   "execution_count": 13,
   "id": "09038a04",
   "metadata": {},
   "outputs": [
    {
     "name": "stdout",
     "output_type": "stream",
     "text": [
      "5\n"
     ]
    }
   ],
   "source": [
    "# right shift\n",
    "\n",
    "a = 10   # binary ( 0000 0101)\n",
    "\n",
    "print(a >> 1)"
   ]
  },
  {
   "cell_type": "code",
   "execution_count": null,
   "id": "1815d364",
   "metadata": {},
   "outputs": [],
   "source": []
  }
 ],
 "metadata": {
  "kernelspec": {
   "display_name": "Python 3",
   "language": "python",
   "name": "python3"
  },
  "language_info": {
   "codemirror_mode": {
    "name": "ipython",
    "version": 3
   },
   "file_extension": ".py",
   "mimetype": "text/x-python",
   "name": "python",
   "nbconvert_exporter": "python",
   "pygments_lexer": "ipython3",
   "version": "3.8.8"
  }
 },
 "nbformat": 4,
 "nbformat_minor": 5
}
